{
 "cells": [
  {
   "cell_type": "markdown",
   "id": "9a9ada08-c9f0-466f-91a0-265fa539f9f5",
   "metadata": {},
   "source": [
    "# Can you predict the strength of concrete?\n",
    "\n",
    "## 📖 Background\n",
    "You work in the civil engineering department of a major university. You are part of a project testing the strength of concrete samples. \n",
    "\n",
    "Concrete is the most widely used building material in the world. It is a mix of cement and water with gravel and sand. It can also include other materials like fly ash, blast furnace slag, and additives. \n",
    "\n",
    "The compressive strength of concrete is a function of components and age, so your team is testing different combinations of ingredients at different time intervals. \n",
    "\n",
    "The project leader asked you to find a simple way to estimate strength so that students can predict how a particular sample is expected to perform."
   ]
  },
  {
   "cell_type": "markdown",
   "id": "10dcc269-3659-4851-99cd-f1ffb7f818aa",
   "metadata": {},
   "source": [
    "## 💾 The data\n",
    "The team has already tested more than a thousand samples ([source](https://archive.ics.uci.edu/ml/datasets/concrete+compressive+strength)):\n",
    "\n",
    "#### Compressive strength data:\n",
    "- \"cement\" - Portland cement in kg/m3\n",
    "- \"slag\" - Blast furnace slag in kg/m3\n",
    "- \"fly_ash\" - Fly ash in kg/m3\n",
    "- \"water\" - Water in liters/m3\n",
    "- \"superplasticizer\" - Superplasticizer additive in kg/m3\n",
    "- \"coarse_aggregate\" - Coarse aggregate (gravel) in kg/m3\n",
    "- \"fine_aggregate\" - Fine aggregate (sand) in kg/m3\n",
    "- \"age\" - Age of the sample in days\n",
    "- \"strength\" - Concrete compressive strength in megapascals (MPa)\n",
    "\n",
    "***Acknowledgments**: I-Cheng Yeh, \"Modeling of strength of high-performance concrete using artificial neural networks,\" Cement and Concrete Research, Vol. 28, No. 12, pp. 1797-1808 (1998)*."
   ]
  },
  {
   "cell_type": "markdown",
   "id": "65ed8971",
   "metadata": {},
   "source": [
    "# 🖥️ (I) Modeling and Predicting Concrete Strength"
   ]
  },
  {
   "cell_type": "markdown",
   "id": "96b3f4c1",
   "metadata": {},
   "source": [
    " ⭕In this section, we try to model a given data and fine-tuning the model to achieve the best model to predict the concrete strength at the end. Also, user can find the estimated strength very accurately by importing the concrete sample attributes."
   ]
  },
  {
   "cell_type": "markdown",
   "id": "0456e42f-9cab-49d4-8e8b-24ed2f64a035",
   "metadata": {},
   "source": [
    "# 1.Data Processing"
   ]
  },
  {
   "cell_type": "code",
   "execution_count": 1,
   "id": "40251159-3eea-47f8-bfb4-09e38d5ced65",
   "metadata": {},
   "outputs": [
    {
     "ename": "FileNotFoundError",
     "evalue": "[Errno 2] No such file or directory: 'data/concrete_data.csv'",
     "output_type": "error",
     "traceback": [
      "\u001b[0;31m---------------------------------------------------------------------------\u001b[0m",
      "\u001b[0;31mFileNotFoundError\u001b[0m                         Traceback (most recent call last)",
      "\u001b[0;32m/tmp/ipykernel_3976/4009023458.py\u001b[0m in \u001b[0;36m<module>\u001b[0;34m\u001b[0m\n\u001b[1;32m      2\u001b[0m \u001b[0;32mimport\u001b[0m \u001b[0mnumpy\u001b[0m \u001b[0;32mas\u001b[0m \u001b[0mnp\u001b[0m\u001b[0;34m\u001b[0m\u001b[0;34m\u001b[0m\u001b[0m\n\u001b[1;32m      3\u001b[0m \u001b[0;32mimport\u001b[0m \u001b[0mpandas\u001b[0m \u001b[0;32mas\u001b[0m \u001b[0mpd\u001b[0m\u001b[0;34m\u001b[0m\u001b[0;34m\u001b[0m\u001b[0m\n\u001b[0;32m----> 4\u001b[0;31m \u001b[0mdf\u001b[0m \u001b[0;34m=\u001b[0m \u001b[0mpd\u001b[0m\u001b[0;34m.\u001b[0m\u001b[0mread_csv\u001b[0m\u001b[0;34m(\u001b[0m\u001b[0;34m'data/concrete_data.csv'\u001b[0m\u001b[0;34m)\u001b[0m\u001b[0;34m\u001b[0m\u001b[0;34m\u001b[0m\u001b[0m\n\u001b[0m\u001b[1;32m      5\u001b[0m \u001b[0mdf\u001b[0m\u001b[0;34m.\u001b[0m\u001b[0mhead\u001b[0m\u001b[0;34m(\u001b[0m\u001b[0;34m)\u001b[0m\u001b[0;34m\u001b[0m\u001b[0;34m\u001b[0m\u001b[0m\n",
      "\u001b[0;32m~/.pyenv/versions/3.8.12/envs/lewagon/lib/python3.8/site-packages/pandas/util/_decorators.py\u001b[0m in \u001b[0;36mwrapper\u001b[0;34m(*args, **kwargs)\u001b[0m\n\u001b[1;32m    309\u001b[0m                     \u001b[0mstacklevel\u001b[0m\u001b[0;34m=\u001b[0m\u001b[0mstacklevel\u001b[0m\u001b[0;34m,\u001b[0m\u001b[0;34m\u001b[0m\u001b[0;34m\u001b[0m\u001b[0m\n\u001b[1;32m    310\u001b[0m                 )\n\u001b[0;32m--> 311\u001b[0;31m             \u001b[0;32mreturn\u001b[0m \u001b[0mfunc\u001b[0m\u001b[0;34m(\u001b[0m\u001b[0;34m*\u001b[0m\u001b[0margs\u001b[0m\u001b[0;34m,\u001b[0m \u001b[0;34m**\u001b[0m\u001b[0mkwargs\u001b[0m\u001b[0;34m)\u001b[0m\u001b[0;34m\u001b[0m\u001b[0;34m\u001b[0m\u001b[0m\n\u001b[0m\u001b[1;32m    312\u001b[0m \u001b[0;34m\u001b[0m\u001b[0m\n\u001b[1;32m    313\u001b[0m         \u001b[0;32mreturn\u001b[0m \u001b[0mwrapper\u001b[0m\u001b[0;34m\u001b[0m\u001b[0;34m\u001b[0m\u001b[0m\n",
      "\u001b[0;32m~/.pyenv/versions/3.8.12/envs/lewagon/lib/python3.8/site-packages/pandas/io/parsers/readers.py\u001b[0m in \u001b[0;36mread_csv\u001b[0;34m(filepath_or_buffer, sep, delimiter, header, names, index_col, usecols, squeeze, prefix, mangle_dupe_cols, dtype, engine, converters, true_values, false_values, skipinitialspace, skiprows, skipfooter, nrows, na_values, keep_default_na, na_filter, verbose, skip_blank_lines, parse_dates, infer_datetime_format, keep_date_col, date_parser, dayfirst, cache_dates, iterator, chunksize, compression, thousands, decimal, lineterminator, quotechar, quoting, doublequote, escapechar, comment, encoding, encoding_errors, dialect, error_bad_lines, warn_bad_lines, on_bad_lines, delim_whitespace, low_memory, memory_map, float_precision, storage_options)\u001b[0m\n\u001b[1;32m    584\u001b[0m     \u001b[0mkwds\u001b[0m\u001b[0;34m.\u001b[0m\u001b[0mupdate\u001b[0m\u001b[0;34m(\u001b[0m\u001b[0mkwds_defaults\u001b[0m\u001b[0;34m)\u001b[0m\u001b[0;34m\u001b[0m\u001b[0;34m\u001b[0m\u001b[0m\n\u001b[1;32m    585\u001b[0m \u001b[0;34m\u001b[0m\u001b[0m\n\u001b[0;32m--> 586\u001b[0;31m     \u001b[0;32mreturn\u001b[0m \u001b[0m_read\u001b[0m\u001b[0;34m(\u001b[0m\u001b[0mfilepath_or_buffer\u001b[0m\u001b[0;34m,\u001b[0m \u001b[0mkwds\u001b[0m\u001b[0;34m)\u001b[0m\u001b[0;34m\u001b[0m\u001b[0;34m\u001b[0m\u001b[0m\n\u001b[0m\u001b[1;32m    587\u001b[0m \u001b[0;34m\u001b[0m\u001b[0m\n\u001b[1;32m    588\u001b[0m \u001b[0;34m\u001b[0m\u001b[0m\n",
      "\u001b[0;32m~/.pyenv/versions/3.8.12/envs/lewagon/lib/python3.8/site-packages/pandas/io/parsers/readers.py\u001b[0m in \u001b[0;36m_read\u001b[0;34m(filepath_or_buffer, kwds)\u001b[0m\n\u001b[1;32m    480\u001b[0m \u001b[0;34m\u001b[0m\u001b[0m\n\u001b[1;32m    481\u001b[0m     \u001b[0;31m# Create the parser.\u001b[0m\u001b[0;34m\u001b[0m\u001b[0;34m\u001b[0m\u001b[0;34m\u001b[0m\u001b[0m\n\u001b[0;32m--> 482\u001b[0;31m     \u001b[0mparser\u001b[0m \u001b[0;34m=\u001b[0m \u001b[0mTextFileReader\u001b[0m\u001b[0;34m(\u001b[0m\u001b[0mfilepath_or_buffer\u001b[0m\u001b[0;34m,\u001b[0m \u001b[0;34m**\u001b[0m\u001b[0mkwds\u001b[0m\u001b[0;34m)\u001b[0m\u001b[0;34m\u001b[0m\u001b[0;34m\u001b[0m\u001b[0m\n\u001b[0m\u001b[1;32m    483\u001b[0m \u001b[0;34m\u001b[0m\u001b[0m\n\u001b[1;32m    484\u001b[0m     \u001b[0;32mif\u001b[0m \u001b[0mchunksize\u001b[0m \u001b[0;32mor\u001b[0m \u001b[0miterator\u001b[0m\u001b[0;34m:\u001b[0m\u001b[0;34m\u001b[0m\u001b[0;34m\u001b[0m\u001b[0m\n",
      "\u001b[0;32m~/.pyenv/versions/3.8.12/envs/lewagon/lib/python3.8/site-packages/pandas/io/parsers/readers.py\u001b[0m in \u001b[0;36m__init__\u001b[0;34m(self, f, engine, **kwds)\u001b[0m\n\u001b[1;32m    809\u001b[0m             \u001b[0mself\u001b[0m\u001b[0;34m.\u001b[0m\u001b[0moptions\u001b[0m\u001b[0;34m[\u001b[0m\u001b[0;34m\"has_index_names\"\u001b[0m\u001b[0;34m]\u001b[0m \u001b[0;34m=\u001b[0m \u001b[0mkwds\u001b[0m\u001b[0;34m[\u001b[0m\u001b[0;34m\"has_index_names\"\u001b[0m\u001b[0;34m]\u001b[0m\u001b[0;34m\u001b[0m\u001b[0;34m\u001b[0m\u001b[0m\n\u001b[1;32m    810\u001b[0m \u001b[0;34m\u001b[0m\u001b[0m\n\u001b[0;32m--> 811\u001b[0;31m         \u001b[0mself\u001b[0m\u001b[0;34m.\u001b[0m\u001b[0m_engine\u001b[0m \u001b[0;34m=\u001b[0m \u001b[0mself\u001b[0m\u001b[0;34m.\u001b[0m\u001b[0m_make_engine\u001b[0m\u001b[0;34m(\u001b[0m\u001b[0mself\u001b[0m\u001b[0;34m.\u001b[0m\u001b[0mengine\u001b[0m\u001b[0;34m)\u001b[0m\u001b[0;34m\u001b[0m\u001b[0;34m\u001b[0m\u001b[0m\n\u001b[0m\u001b[1;32m    812\u001b[0m \u001b[0;34m\u001b[0m\u001b[0m\n\u001b[1;32m    813\u001b[0m     \u001b[0;32mdef\u001b[0m \u001b[0mclose\u001b[0m\u001b[0;34m(\u001b[0m\u001b[0mself\u001b[0m\u001b[0;34m)\u001b[0m\u001b[0;34m:\u001b[0m\u001b[0;34m\u001b[0m\u001b[0;34m\u001b[0m\u001b[0m\n",
      "\u001b[0;32m~/.pyenv/versions/3.8.12/envs/lewagon/lib/python3.8/site-packages/pandas/io/parsers/readers.py\u001b[0m in \u001b[0;36m_make_engine\u001b[0;34m(self, engine)\u001b[0m\n\u001b[1;32m   1038\u001b[0m             )\n\u001b[1;32m   1039\u001b[0m         \u001b[0;31m# error: Too many arguments for \"ParserBase\"\u001b[0m\u001b[0;34m\u001b[0m\u001b[0;34m\u001b[0m\u001b[0;34m\u001b[0m\u001b[0m\n\u001b[0;32m-> 1040\u001b[0;31m         \u001b[0;32mreturn\u001b[0m \u001b[0mmapping\u001b[0m\u001b[0;34m[\u001b[0m\u001b[0mengine\u001b[0m\u001b[0;34m]\u001b[0m\u001b[0;34m(\u001b[0m\u001b[0mself\u001b[0m\u001b[0;34m.\u001b[0m\u001b[0mf\u001b[0m\u001b[0;34m,\u001b[0m \u001b[0;34m**\u001b[0m\u001b[0mself\u001b[0m\u001b[0;34m.\u001b[0m\u001b[0moptions\u001b[0m\u001b[0;34m)\u001b[0m  \u001b[0;31m# type: ignore[call-arg]\u001b[0m\u001b[0;34m\u001b[0m\u001b[0;34m\u001b[0m\u001b[0m\n\u001b[0m\u001b[1;32m   1041\u001b[0m \u001b[0;34m\u001b[0m\u001b[0m\n\u001b[1;32m   1042\u001b[0m     \u001b[0;32mdef\u001b[0m \u001b[0m_failover_to_python\u001b[0m\u001b[0;34m(\u001b[0m\u001b[0mself\u001b[0m\u001b[0;34m)\u001b[0m\u001b[0;34m:\u001b[0m\u001b[0;34m\u001b[0m\u001b[0;34m\u001b[0m\u001b[0m\n",
      "\u001b[0;32m~/.pyenv/versions/3.8.12/envs/lewagon/lib/python3.8/site-packages/pandas/io/parsers/c_parser_wrapper.py\u001b[0m in \u001b[0;36m__init__\u001b[0;34m(self, src, **kwds)\u001b[0m\n\u001b[1;32m     49\u001b[0m \u001b[0;34m\u001b[0m\u001b[0m\n\u001b[1;32m     50\u001b[0m         \u001b[0;31m# open handles\u001b[0m\u001b[0;34m\u001b[0m\u001b[0;34m\u001b[0m\u001b[0;34m\u001b[0m\u001b[0m\n\u001b[0;32m---> 51\u001b[0;31m         \u001b[0mself\u001b[0m\u001b[0;34m.\u001b[0m\u001b[0m_open_handles\u001b[0m\u001b[0;34m(\u001b[0m\u001b[0msrc\u001b[0m\u001b[0;34m,\u001b[0m \u001b[0mkwds\u001b[0m\u001b[0;34m)\u001b[0m\u001b[0;34m\u001b[0m\u001b[0;34m\u001b[0m\u001b[0m\n\u001b[0m\u001b[1;32m     52\u001b[0m         \u001b[0;32massert\u001b[0m \u001b[0mself\u001b[0m\u001b[0;34m.\u001b[0m\u001b[0mhandles\u001b[0m \u001b[0;32mis\u001b[0m \u001b[0;32mnot\u001b[0m \u001b[0;32mNone\u001b[0m\u001b[0;34m\u001b[0m\u001b[0;34m\u001b[0m\u001b[0m\n\u001b[1;32m     53\u001b[0m \u001b[0;34m\u001b[0m\u001b[0m\n",
      "\u001b[0;32m~/.pyenv/versions/3.8.12/envs/lewagon/lib/python3.8/site-packages/pandas/io/parsers/base_parser.py\u001b[0m in \u001b[0;36m_open_handles\u001b[0;34m(self, src, kwds)\u001b[0m\n\u001b[1;32m    220\u001b[0m         \u001b[0mLet\u001b[0m \u001b[0mthe\u001b[0m \u001b[0mreaders\u001b[0m \u001b[0mopen\u001b[0m \u001b[0mIOHandles\u001b[0m \u001b[0mafter\u001b[0m \u001b[0mthey\u001b[0m \u001b[0mare\u001b[0m \u001b[0mdone\u001b[0m \u001b[0;32mwith\u001b[0m \u001b[0mtheir\u001b[0m \u001b[0mpotential\u001b[0m \u001b[0mraises\u001b[0m\u001b[0;34m.\u001b[0m\u001b[0;34m\u001b[0m\u001b[0;34m\u001b[0m\u001b[0m\n\u001b[1;32m    221\u001b[0m         \"\"\"\n\u001b[0;32m--> 222\u001b[0;31m         self.handles = get_handle(\n\u001b[0m\u001b[1;32m    223\u001b[0m             \u001b[0msrc\u001b[0m\u001b[0;34m,\u001b[0m\u001b[0;34m\u001b[0m\u001b[0;34m\u001b[0m\u001b[0m\n\u001b[1;32m    224\u001b[0m             \u001b[0;34m\"r\"\u001b[0m\u001b[0;34m,\u001b[0m\u001b[0;34m\u001b[0m\u001b[0;34m\u001b[0m\u001b[0m\n",
      "\u001b[0;32m~/.pyenv/versions/3.8.12/envs/lewagon/lib/python3.8/site-packages/pandas/io/common.py\u001b[0m in \u001b[0;36mget_handle\u001b[0;34m(path_or_buf, mode, encoding, compression, memory_map, is_text, errors, storage_options)\u001b[0m\n\u001b[1;32m    700\u001b[0m         \u001b[0;32mif\u001b[0m \u001b[0mioargs\u001b[0m\u001b[0;34m.\u001b[0m\u001b[0mencoding\u001b[0m \u001b[0;32mand\u001b[0m \u001b[0;34m\"b\"\u001b[0m \u001b[0;32mnot\u001b[0m \u001b[0;32min\u001b[0m \u001b[0mioargs\u001b[0m\u001b[0;34m.\u001b[0m\u001b[0mmode\u001b[0m\u001b[0;34m:\u001b[0m\u001b[0;34m\u001b[0m\u001b[0;34m\u001b[0m\u001b[0m\n\u001b[1;32m    701\u001b[0m             \u001b[0;31m# Encoding\u001b[0m\u001b[0;34m\u001b[0m\u001b[0;34m\u001b[0m\u001b[0;34m\u001b[0m\u001b[0m\n\u001b[0;32m--> 702\u001b[0;31m             handle = open(\n\u001b[0m\u001b[1;32m    703\u001b[0m                 \u001b[0mhandle\u001b[0m\u001b[0;34m,\u001b[0m\u001b[0;34m\u001b[0m\u001b[0;34m\u001b[0m\u001b[0m\n\u001b[1;32m    704\u001b[0m                 \u001b[0mioargs\u001b[0m\u001b[0;34m.\u001b[0m\u001b[0mmode\u001b[0m\u001b[0;34m,\u001b[0m\u001b[0;34m\u001b[0m\u001b[0;34m\u001b[0m\u001b[0m\n",
      "\u001b[0;31mFileNotFoundError\u001b[0m: [Errno 2] No such file or directory: 'data/concrete_data.csv'"
     ]
    }
   ],
   "source": [
    "import matplotlib.pyplot as plt\n",
    "import numpy as np\n",
    "import pandas as pd\n",
    "df = pd.read_csv('data/concrete_data.csv')\n",
    "df.head()"
   ]
  },
  {
   "cell_type": "code",
   "execution_count": null,
   "id": "b57bd2d1-b577-4cc2-ae53-deb0a6ba308b",
   "metadata": {},
   "outputs": [],
   "source": [
    "df.shape"
   ]
  },
  {
   "cell_type": "markdown",
   "id": "0a94f87c-4517-4f0d-bbaa-57d02e533fa1",
   "metadata": {},
   "source": [
    "## 1.1 Data Cleaning"
   ]
  },
  {
   "cell_type": "markdown",
   "id": "b7a31a1c-124d-4a20-9137-0d6c6c716ad0",
   "metadata": {},
   "source": [
    "How many duplicated rows are there in the dataset?"
   ]
  },
  {
   "cell_type": "code",
   "execution_count": null,
   "id": "81b71185-d125-459f-8f93-25b8673fedb1",
   "metadata": {},
   "outputs": [],
   "source": [
    "duplicate_count = len(df)-len(df.drop_duplicates()) # Original data lenght minus data length without duplicates\n",
    "\n",
    "duplicate_count"
   ]
  },
  {
   "cell_type": "code",
   "execution_count": null,
   "id": "50bf0bbb-ca42-4423-8366-6b355b0d404b",
   "metadata": {},
   "outputs": [],
   "source": [
    "df.drop_duplicates(inplace=True) # Drop duplicates in place\n",
    "\n",
    "df.head()"
   ]
  },
  {
   "cell_type": "markdown",
   "id": "c58d89c2-76a4-4e97-87ca-213b6dda0021",
   "metadata": {},
   "source": [
    "Check the Missing Data"
   ]
  },
  {
   "cell_type": "code",
   "execution_count": null,
   "id": "42a5d690-154d-44cd-80e8-18b3cfaa72f4",
   "metadata": {},
   "outputs": [],
   "source": [
    "df.isnull().sum().sort_values(ascending=False)"
   ]
  },
  {
   "cell_type": "code",
   "execution_count": null,
   "id": "bc3db7c0-2346-4bb2-8fc5-123f717e630a",
   "metadata": {},
   "outputs": [],
   "source": [
    "df.shape"
   ]
  },
  {
   "cell_type": "markdown",
   "id": "277273f3-5819-46d5-843a-5e60b95af198",
   "metadata": {},
   "source": [
    "Finding & Removing Outliers"
   ]
  },
  {
   "cell_type": "code",
   "execution_count": null,
   "id": "c4126621-2a80-40c2-8989-035d5e3c1d38",
   "metadata": {},
   "outputs": [],
   "source": [
    "(df[['cement']].boxplot())\n",
    "plt.show()\n",
    "(df[['slag']].boxplot())\n",
    "plt.show()\n",
    "(df[['fly_ash']].boxplot())\n",
    "plt.show()\n",
    "(df[['water']].boxplot())\n",
    "plt.show()\n",
    "(df[['superplasticizer']].boxplot())\n",
    "plt.show()\n",
    "(df[['coarse_aggregate']].boxplot())\n",
    "plt.show()\n",
    "(df[['fine_aggregate']].boxplot())\n",
    "plt.show()\n",
    "\n"
   ]
  },
  {
   "cell_type": "markdown",
   "id": "0734d7e1-33d8-41df-acad-70fff5c0e5bf",
   "metadata": {},
   "source": [
    "Droping outliers"
   ]
  },
  {
   "cell_type": "code",
   "execution_count": null,
   "id": "e7d6d16f-db80-49e2-9c86-c8c7af8d9160",
   "metadata": {},
   "outputs": [],
   "source": [
    "from scipy import stats\n",
    "df[(np.abs(stats.zscore(df)) < 3).all(axis=1)]"
   ]
  },
  {
   "cell_type": "markdown",
   "id": "742aade9-4e63-4db5-bf09-1d97ef080a74",
   "metadata": {},
   "source": [
    "## 1.2 Feature Scaling"
   ]
  },
  {
   "cell_type": "code",
   "execution_count": null,
   "id": "94169bcf-6789-46fe-9485-24ec721bf8b9",
   "metadata": {},
   "outputs": [],
   "source": [
    "df=df.copy()\n",
    "from sklearn.preprocessing import StandardScaler\n",
    "from sklearn.preprocessing import MinMaxScaler\n",
    "from sklearn.preprocessing import RobustScaler\n",
    "\n",
    "scaler = RobustScaler() \n",
    " \n",
    "# make a copy of dataframe\n",
    "scaled_features = df.copy()\n",
    "\n",
    "col_names = ['cement', 'slag', 'fly_ash', 'water','superplasticizer','coarse_aggregate','fine_aggregate','age']\n",
    "features = scaled_features[col_names]\n",
    "\n",
    "# Use scaler of choice; here Standard scaler is used\n",
    "features = scaler.fit_transform(features.values)\n",
    "\n",
    "scaled_features[col_names] = features\n",
    "scaled_features"
   ]
  },
  {
   "cell_type": "code",
   "execution_count": null,
   "id": "6ec1910c-ef14-43ac-af40-3d14a29f3be8",
   "metadata": {},
   "outputs": [],
   "source": [
    "X = scaled_features.drop(columns=['strength'])\n",
    "y = scaled_features['strength']"
   ]
  },
  {
   "cell_type": "code",
   "execution_count": null,
   "id": "71e04392-cd19-4e2e-a871-08e13c6dbc8a",
   "metadata": {},
   "outputs": [],
   "source": [
    "X"
   ]
  },
  {
   "cell_type": "markdown",
   "id": "a40ba79f-bbc1-4e40-a718-daf6b4ac9c94",
   "metadata": {},
   "source": [
    "Features Corrolation"
   ]
  },
  {
   "cell_type": "code",
   "execution_count": null,
   "id": "8544c48a-e5a8-4aac-b566-a8bd48899799",
   "metadata": {},
   "outputs": [],
   "source": [
    "import seaborn as sns\n",
    "\n",
    "corr = scaled_features.corr() # Pearson Correlation\n",
    "\n",
    "# Heatmap\n",
    "sns.heatmap(corr, \n",
    "        xticklabels=corr.columns,\n",
    "        yticklabels=corr.columns,\n",
    "        cmap= \"YlGnBu\")\n"
   ]
  },
  {
   "cell_type": "markdown",
   "id": "1f0cce6b-58c5-48a1-a66d-d3122618fe27",
   "metadata": {},
   "source": [
    "# 2.Modeling"
   ]
  },
  {
   "cell_type": "markdown",
   "id": "c14dd0ea-162b-4324-851a-1d5ccfe0750a",
   "metadata": {},
   "source": [
    "## 2.1 Base Model (XGBRegressor)"
   ]
  },
  {
   "cell_type": "markdown",
   "id": "f9fc1ec0-a1fc-474c-a49b-2241b564a6d8",
   "metadata": {},
   "source": [
    "Data Spliting"
   ]
  },
  {
   "cell_type": "code",
   "execution_count": null,
   "id": "c2dda0a0-2e86-4c9a-9217-52e185c09a86",
   "metadata": {},
   "outputs": [],
   "source": [
    "from sklearn.model_selection import train_test_split\n",
    "X_train, X_test, y_train, y_test = train_test_split(X, y, test_size=0.33, random_state=0)"
   ]
  },
  {
   "cell_type": "markdown",
   "id": "e901bf6e-e84e-4dbc-b3c8-b724bdbb23f7",
   "metadata": {},
   "source": [
    "Cross Validating"
   ]
  },
  {
   "cell_type": "code",
   "execution_count": null,
   "id": "65d9210f-f1fb-4e07-b96a-cc72a1e73149",
   "metadata": {},
   "outputs": [],
   "source": [
    "from sklearn.linear_model import LinearRegression\n",
    "from sklearn.model_selection import cross_val_score\n",
    "import xgboost as xg\n",
    "from sklearn.model_selection import train_test_split\n",
    "from sklearn.metrics import mean_squared_error as MSE\n",
    "\n",
    "#model = LinearRegression()\n",
    "model= xg.XGBRegressor(objective='reg:squarederror')\n",
    "\n",
    "scores = cross_val_score(model, X_train, y_train, cv=10)\n",
    "\n",
    "base_model_score = scores.mean()\n",
    "\n",
    "base_model_score"
   ]
  },
  {
   "cell_type": "markdown",
   "id": "91173845-d88f-4dd8-8884-f8d483a77afe",
   "metadata": {},
   "source": [
    "KNN Model"
   ]
  },
  {
   "cell_type": "code",
   "execution_count": null,
   "id": "ed6b25a4-ec99-47cf-8ccf-7d5742c02fff",
   "metadata": {},
   "outputs": [],
   "source": [
    "from sklearn.neighbors import KNeighborsRegressor\n",
    "\n",
    "knn = KNeighborsRegressor(n_neighbors=1)\n",
    "\n",
    "scores = cross_val_score(knn, X_train, y_train, cv=10)\n",
    "\n",
    "base_model_score = scores.mean()\n",
    "\n",
    "base_model_score"
   ]
  },
  {
   "cell_type": "code",
   "execution_count": null,
   "id": "d229205b-0773-4e8b-bd2f-cb088f872b58",
   "metadata": {},
   "outputs": [],
   "source": [
    "from sklearn.model_selection import GridSearchCV\n",
    "\n",
    "# Instanciate model\n",
    "model = KNeighborsRegressor()\n",
    "\n",
    "# Hyperparameter Grid\n",
    "k_grid = {'n_neighbors' : [1,5,10,20,50]}\n",
    "\n",
    "# Instanciate Grid Search\n",
    "grid = GridSearchCV(model, k_grid, n_jobs=-1,  cv = 5)\n",
    "\n",
    "# Fit data to Grid Search\n",
    "grid.fit(X_train, y_train)"
   ]
  },
  {
   "cell_type": "code",
   "execution_count": null,
   "id": "c954b636-6f19-4003-a2d3-dd60e64a3446",
   "metadata": {},
   "outputs": [],
   "source": [
    "grid.best_params_"
   ]
  },
  {
   "cell_type": "code",
   "execution_count": null,
   "id": "5ae8812d-f6da-41c5-b139-54c3e8554806",
   "metadata": {},
   "outputs": [],
   "source": [
    "knn = KNeighborsRegressor(n_neighbors=5)\n",
    "\n",
    "scores = cross_val_score(knn, X_train, y_train, cv=10)\n",
    "\n",
    "base_model_score = scores.mean()\n",
    "\n",
    "base_model_score"
   ]
  },
  {
   "cell_type": "markdown",
   "id": "1f79d305-1e2d-4bab-b640-c30b181d6f92",
   "metadata": {},
   "source": [
    "XGBRegressor Model fine tunning\n"
   ]
  },
  {
   "cell_type": "code",
   "execution_count": null,
   "id": "cc55bbe0-8d6c-4c97-a4b8-f4c1d54820c4",
   "metadata": {},
   "outputs": [],
   "source": [
    "model= xg.XGBRegressor(objective='reg:squarederror',n_estimators=1000,learning_rate=0.05)\n",
    "\n",
    "scores = cross_val_score(model, X_train, y_train, cv=10)\n",
    "\n",
    "base_model_score = scores.mean()\n",
    "\n",
    "base_model_score"
   ]
  },
  {
   "cell_type": "code",
   "execution_count": null,
   "id": "d3c5e827-5288-432c-bf22-d2e8dbabe17b",
   "metadata": {},
   "outputs": [],
   "source": [
    "model= xg.XGBRegressor(objective='reg:squarederror',n_estimators=1000,learning_rate=0.05)\n",
    "trained_model = model.fit(X_train,y_train)\n",
    "model.score(X_test,y_test)"
   ]
  },
  {
   "cell_type": "markdown",
   "id": "ec39bdb8-d647-4a9c-900f-0952cdaf330f",
   "metadata": {},
   "source": [
    "We choose the \"XGBRegressor\" for better result"
   ]
  },
  {
   "cell_type": "markdown",
   "id": "7036a4bd-d393-4e5b-bfef-0718b0c5a8f3",
   "metadata": {},
   "source": [
    "# 3.Input New Data "
   ]
  },
  {
   "cell_type": "code",
   "execution_count": null,
   "id": "2cff198f-a874-4dab-abb4-bbf5f5231c9c",
   "metadata": {},
   "outputs": [],
   "source": [
    "print(df.columns.values.tolist())"
   ]
  },
  {
   "cell_type": "markdown",
   "id": "354e8970-e214-4a3d-8b9c-be3f09396da3",
   "metadata": {},
   "source": [
    "## 3.1 Test the sample"
   ]
  },
  {
   "cell_type": "code",
   "execution_count": null,
   "id": "330b2a57-5a3e-4061-a467-73a22e1a9650",
   "metadata": {},
   "outputs": [],
   "source": [
    "sample = [332.5,142.5,0.0,228.0,0.0,932.0,594.0,270]\n",
    "column_names = ['cement', 'slag', 'fly_ash', 'water', 'superplasticizer', 'coarse_aggregate', 'fine_aggregate', 'age']\n",
    "new_sample= pd.DataFrame(data = [sample], columns = column_names)\n",
    "\n",
    "#Scaling input\n",
    "new_sample['cement'],new_sample['slag'],new_sample['fly_ash'],new_sample['water'],new_sample['superplasticizer'],new_sample['coarse_aggregate'],new_sample['fine_aggregate'],new_sample['age'] = scaler.transform(new_sample[['cement', 'slag', 'fly_ash', 'water', 'superplasticizer', 'coarse_aggregate', 'fine_aggregate', 'age']]).T\n",
    "new_sample"
   ]
  },
  {
   "cell_type": "code",
   "execution_count": null,
   "id": "b7619850-7a34-40bc-b3c4-57fe0c7558a4",
   "metadata": {
    "tags": []
   },
   "outputs": [],
   "source": [
    "model.predict(new_sample)[0]"
   ]
  },
  {
   "cell_type": "markdown",
   "id": "2b5a134d-e33a-4b34-877b-41fda7b078f6",
   "metadata": {},
   "source": [
    "## 3.2 Inputing new sample by user"
   ]
  },
  {
   "cell_type": "markdown",
   "id": "435d120b-f797-46de-8911-43ab6c40c9fa",
   "metadata": {},
   "source": [
    "### Please enter your concrete sample properties by order and run the cell"
   ]
  },
  {
   "cell_type": "code",
   "execution_count": null,
   "id": "05af1a93-1ef0-43d4-91c4-3017d458c844",
   "metadata": {},
   "outputs": [],
   "source": [
    "cement= 332.5\n",
    "slag= 142.5\n",
    "fly_ash= 0.0\n",
    "water= 228.0\n",
    "superplasticizer= 0.0\n",
    "coarse_aggregate= 932.0\n",
    "fine_aggregate= 594.0"
   ]
  },
  {
   "cell_type": "markdown",
   "id": "8d4694dc-050b-4782-b4e3-534f74e4a0f5",
   "metadata": {},
   "source": [
    "## 💪 3.4 Run the the cell and get The average strength of the concrete samples at 1, 7, 14, and 28 days of age\n"
   ]
  },
  {
   "cell_type": "code",
   "execution_count": null,
   "id": "1857084c-e880-400e-b105-8a777f9ba3fa",
   "metadata": {
    "scrolled": true
   },
   "outputs": [],
   "source": [
    "age=[1,7,14,28]\n",
    "prediction_list=[]\n",
    "for item in age:\n",
    "    sample = [cement, slag, fly_ash, water, superplasticizer, coarse_aggregate, fine_aggregate,item]\n",
    "    column_names = ['cement', 'slag', 'fly_ash', 'water', 'superplasticizer', 'coarse_aggregate', 'fine_aggregate', 'age']\n",
    "    new_sample= pd.DataFrame(data = [sample], columns = column_names)\n",
    "    new_sample['cement'],new_sample['slag'],new_sample['fly_ash'],new_sample['water'],new_sample['superplasticizer'],new_sample['coarse_aggregate'],new_sample['fine_aggregate'],new_sample['age'] = scaler.transform(new_sample[['cement', 'slag', 'fly_ash', 'water', 'superplasticizer', 'coarse_aggregate', 'fine_aggregate', 'age']]).T\n",
    "    prediction_list.append(model.predict(new_sample)[0])\n",
    "    \n",
    "mean_strength=(sum(prediction_list)/len(prediction_list))\n",
    "\n",
    "print (\"+++++++++++++++++++++++++++++++++++++++++++++++++++++++++++++++++++++++++++++++++++++++++++++++++++++++\")\n",
    "print (\"The average strength of your concrete sample at 1, 7, 14, and 28 days of age is\", mean_strength , \"MPa\")\n",
    "print (\"+++++++++++++++++++++++++++++++++++++++++++++++++++++++++++++++++++++++++++++++++++++++++++++++++++++++\")"
   ]
  },
  {
   "cell_type": "markdown",
   "id": "339db6ba",
   "metadata": {},
   "source": [
    "# 📈(II) Finding a formula that estimates the compressive strength of concrete"
   ]
  },
  {
   "cell_type": "code",
   "execution_count": null,
   "id": "fac9c777",
   "metadata": {},
   "outputs": [],
   "source": [
    "df"
   ]
  },
  {
   "cell_type": "code",
   "execution_count": null,
   "id": "69648dd4",
   "metadata": {},
   "outputs": [],
   "source": [
    "from sklearn.linear_model import LinearRegression\n",
    "# creating an object of LinearRegression class\n",
    "LR = LinearRegression()\n",
    "# fitting the training data\n",
    "LR.fit(X1_train,y1_train)\n"
   ]
  },
  {
   "cell_type": "code",
   "execution_count": null,
   "id": "9e44a112",
   "metadata": {},
   "outputs": [],
   "source": [
    "# Make predictions using the testing set\n",
    "y1_pred = LR.predict(X1_test)\n"
   ]
  },
  {
   "cell_type": "code",
   "execution_count": null,
   "id": "94375a80",
   "metadata": {},
   "outputs": [],
   "source": [
    "from sklearn.metrics import mean_squared_error, r2_score\n",
    "# The coefficients\n",
    "print(\"Coefficients: \\n\", LR.coef_)\n",
    "print(\"Interception: \\n\", LR.intercept_)\n",
    "# The mean squared error\n",
    "print(\"Mean squared error: %.2f\" % mean_squared_error(y1_test,y1_pred))\n",
    "# The coefficient of determination: 1 is perfect prediction\n",
    "print(\"Coefficient of determination: %.2f\" % r2_score(y1_test,y1_pred))"
   ]
  },
  {
   "cell_type": "code",
   "execution_count": null,
   "id": "eb583a83",
   "metadata": {},
   "outputs": [],
   "source": [
    "import statsmodels.formula.api as smf\n",
    "model_s = smf.ols('strength ~cement+slag+fly_ash+water+superplasticizer+coarse_aggregate+fine_aggregate+age',  data=df).fit()\n",
    "print(model_s.summary())"
   ]
  },
  {
   "cell_type": "code",
   "execution_count": null,
   "id": "81d4393e",
   "metadata": {},
   "outputs": [],
   "source": [
    "X2 = df.drop(columns=['strength'])\n",
    "y2 = df['strength']"
   ]
  },
  {
   "cell_type": "code",
   "execution_count": null,
   "id": "6ef20c23",
   "metadata": {},
   "outputs": [],
   "source": [
    "predicted_streangth = model_s.predict(X2)\n",
    "residuals = predicted_streangth - y2\n",
    "residuals"
   ]
  },
  {
   "cell_type": "code",
   "execution_count": null,
   "id": "ce5f768b",
   "metadata": {},
   "outputs": [],
   "source": [
    "RMSE = (residuals.map(lambda x: x**2).sum() / len(residuals))**0.5\n",
    "RMSE"
   ]
  },
  {
   "cell_type": "code",
   "execution_count": null,
   "id": "c56eb918",
   "metadata": {},
   "outputs": [],
   "source": [
    "sns.histplot(residuals, kde=True, stat='density', discrete=True)\n",
    "plt.title('residuals density plot')"
   ]
  },
  {
   "cell_type": "code",
   "execution_count": null,
   "id": "15e775fb",
   "metadata": {},
   "outputs": [],
   "source": [
    "sns.histplot(y2, kde=True, stat='density', discrete=True)\n",
    "sns.histplot(predicted_streangth, kde=True, stat='density', discrete=True)\n"
   ]
  },
  {
   "cell_type": "code",
   "execution_count": null,
   "id": "840fb220",
   "metadata": {
    "scrolled": true
   },
   "outputs": [],
   "source": [
    "model_s.predict(X2.iloc[2])"
   ]
  },
  {
   "cell_type": "markdown",
   "id": "c10f1741",
   "metadata": {},
   "source": [
    "### Strength Formula:\n",
    "\n",
    "### Strength = (-17.7481) + 0.1172 ∗ cement + 0.0994 ∗ slag + 0.0856 ∗ fly ash - 0.1526 ∗ water + 0.2834 ∗ superplasticizer + 0.0156 ∗ coarse aggregate + 0.0183 ∗ fine aggregate +  0.1122 ∗ age"
   ]
  },
  {
   "cell_type": "code",
   "execution_count": null,
   "id": "cb93cb1e",
   "metadata": {},
   "outputs": [],
   "source": [
    "((1+7+14+28)*0.1122)-17.7481"
   ]
  },
  {
   "cell_type": "markdown",
   "id": "f2769698",
   "metadata": {},
   "source": [
    "## The average strength of the concrete samples at 1, 7, 14, and 28 days of age:\n",
    "\n",
    "Strength = (-12.13811) + 0.1172 ∗ cement + 0.0994 ∗ slag + 0.0856 ∗ fly ash - 0.1526 ∗ water + 0.2834 ∗ superplasticizer + 0.0156 ∗ coarse aggregate + 0.0183 ∗ fine aggregate + 0.1122"
   ]
  },
  {
   "cell_type": "markdown",
   "id": "735bfe7c",
   "metadata": {},
   "source": [
    "## ✅ Finish"
   ]
  },
  {
   "cell_type": "code",
   "execution_count": null,
   "id": "81f76e62",
   "metadata": {},
   "outputs": [],
   "source": []
  }
 ],
 "metadata": {
  "kernelspec": {
   "display_name": "Python 3 (ipykernel)",
   "language": "python",
   "name": "python3"
  },
  "language_info": {
   "codemirror_mode": {
    "name": "ipython",
    "version": 3
   },
   "file_extension": ".py",
   "mimetype": "text/x-python",
   "name": "python",
   "nbconvert_exporter": "python",
   "pygments_lexer": "ipython3",
   "version": "3.8.12"
  },
  "toc": {
   "base_numbering": 1,
   "nav_menu": {},
   "number_sections": false,
   "sideBar": true,
   "skip_h1_title": false,
   "title_cell": "Table of Contents",
   "title_sidebar": "Contents",
   "toc_cell": false,
   "toc_position": {},
   "toc_section_display": true,
   "toc_window_display": true
  }
 },
 "nbformat": 4,
 "nbformat_minor": 5
}
