{
 "cells": [
  {
   "cell_type": "markdown",
   "id": "9a9ada08-c9f0-466f-91a0-265fa539f9f5",
   "metadata": {},
   "source": [
    "# Can you predict the strength of concrete?\n",
    "\n",
    "## 📖 Background\n",
    "You work in the civil engineering department of a major university. You are part of a project testing the strength of concrete samples. \n",
    "\n",
    "Concrete is the most widely used building material in the world. It is a mix of cement and water with gravel and sand. It can also include other materials like fly ash, blast furnace slag, and additives. \n",
    "\n",
    "The compressive strength of concrete is a function of components and age, so your team is testing different combinations of ingredients at different time intervals. \n",
    "\n",
    "The project leader asked you to find a simple way to estimate strength so that students can predict how a particular sample is expected to perform."
   ]
  },
  {
   "cell_type": "markdown",
   "id": "10dcc269-3659-4851-99cd-f1ffb7f818aa",
   "metadata": {},
   "source": [
    "## 💾 The data\n",
    "The team has already tested more than a thousand samples ([source](https://archive.ics.uci.edu/ml/datasets/concrete+compressive+strength)):\n",
    "\n",
    "#### Compressive strength data:\n",
    "- \"cement\" - Portland cement in kg/m3\n",
    "- \"slag\" - Blast furnace slag in kg/m3\n",
    "- \"fly_ash\" - Fly ash in kg/m3\n",
    "- \"water\" - Water in liters/m3\n",
    "- \"superplasticizer\" - Superplasticizer additive in kg/m3\n",
    "- \"coarse_aggregate\" - Coarse aggregate (gravel) in kg/m3\n",
    "- \"fine_aggregate\" - Fine aggregate (sand) in kg/m3\n",
    "- \"age\" - Age of the sample in days\n",
    "- \"strength\" - Concrete compressive strength in megapascals (MPa)\n",
    "\n",
    "***Acknowledgments**: I-Cheng Yeh, \"Modeling of strength of high-performance concrete using artificial neural networks,\" Cement and Concrete Research, Vol. 28, No. 12, pp. 1797-1808 (1998)*."
   ]
  },
  {
   "cell_type": "markdown",
   "id": "65ed8971",
   "metadata": {},
   "source": [
    "# 🖥️ (I) Modeling and Predicting Concrete Strength"
   ]
  },
  {
   "cell_type": "markdown",
   "id": "96b3f4c1",
   "metadata": {},
   "source": [
    " ⭕In this section, we try to model a given data and fine-tuning the model to achieve the best model to predict the concrete strength at the end. Also, user can find the estimated strength very accurately by importing the concrete sample attributes."
   ]
  },
  {
   "cell_type": "markdown",
   "id": "0456e42f-9cab-49d4-8e8b-24ed2f64a035",
   "metadata": {},
   "source": [
    "# 1.Data Processing"
   ]
  },
  {
   "cell_type": "code",
   "execution_count": 1,
   "id": "40251159-3eea-47f8-bfb4-09e38d5ced65",
   "metadata": {},
   "outputs": [
    {
     "data": {
      "text/html": [
       "<div>\n",
       "<style scoped>\n",
       "    .dataframe tbody tr th:only-of-type {\n",
       "        vertical-align: middle;\n",
       "    }\n",
       "\n",
       "    .dataframe tbody tr th {\n",
       "        vertical-align: top;\n",
       "    }\n",
       "\n",
       "    .dataframe thead th {\n",
       "        text-align: right;\n",
       "    }\n",
       "</style>\n",
       "<table border=\"1\" class=\"dataframe\">\n",
       "  <thead>\n",
       "    <tr style=\"text-align: right;\">\n",
       "      <th></th>\n",
       "      <th>cement</th>\n",
       "      <th>slag</th>\n",
       "      <th>fly_ash</th>\n",
       "      <th>water</th>\n",
       "      <th>superplasticizer</th>\n",
       "      <th>coarse_aggregate</th>\n",
       "      <th>fine_aggregate</th>\n",
       "      <th>age</th>\n",
       "      <th>strength</th>\n",
       "    </tr>\n",
       "  </thead>\n",
       "  <tbody>\n",
       "    <tr>\n",
       "      <th>0</th>\n",
       "      <td>540.0</td>\n",
       "      <td>0.0</td>\n",
       "      <td>0.0</td>\n",
       "      <td>162.0</td>\n",
       "      <td>2.5</td>\n",
       "      <td>1040.0</td>\n",
       "      <td>676.0</td>\n",
       "      <td>28</td>\n",
       "      <td>79.986111</td>\n",
       "    </tr>\n",
       "    <tr>\n",
       "      <th>1</th>\n",
       "      <td>540.0</td>\n",
       "      <td>0.0</td>\n",
       "      <td>0.0</td>\n",
       "      <td>162.0</td>\n",
       "      <td>2.5</td>\n",
       "      <td>1055.0</td>\n",
       "      <td>676.0</td>\n",
       "      <td>28</td>\n",
       "      <td>61.887366</td>\n",
       "    </tr>\n",
       "    <tr>\n",
       "      <th>2</th>\n",
       "      <td>332.5</td>\n",
       "      <td>142.5</td>\n",
       "      <td>0.0</td>\n",
       "      <td>228.0</td>\n",
       "      <td>0.0</td>\n",
       "      <td>932.0</td>\n",
       "      <td>594.0</td>\n",
       "      <td>270</td>\n",
       "      <td>40.269535</td>\n",
       "    </tr>\n",
       "    <tr>\n",
       "      <th>3</th>\n",
       "      <td>332.5</td>\n",
       "      <td>142.5</td>\n",
       "      <td>0.0</td>\n",
       "      <td>228.0</td>\n",
       "      <td>0.0</td>\n",
       "      <td>932.0</td>\n",
       "      <td>594.0</td>\n",
       "      <td>365</td>\n",
       "      <td>41.052780</td>\n",
       "    </tr>\n",
       "    <tr>\n",
       "      <th>4</th>\n",
       "      <td>198.6</td>\n",
       "      <td>132.4</td>\n",
       "      <td>0.0</td>\n",
       "      <td>192.0</td>\n",
       "      <td>0.0</td>\n",
       "      <td>978.4</td>\n",
       "      <td>825.5</td>\n",
       "      <td>360</td>\n",
       "      <td>44.296075</td>\n",
       "    </tr>\n",
       "  </tbody>\n",
       "</table>\n",
       "</div>"
      ],
      "text/plain": [
       "   cement   slag  fly_ash  water  superplasticizer  coarse_aggregate  \\\n",
       "0   540.0    0.0      0.0  162.0               2.5            1040.0   \n",
       "1   540.0    0.0      0.0  162.0               2.5            1055.0   \n",
       "2   332.5  142.5      0.0  228.0               0.0             932.0   \n",
       "3   332.5  142.5      0.0  228.0               0.0             932.0   \n",
       "4   198.6  132.4      0.0  192.0               0.0             978.4   \n",
       "\n",
       "   fine_aggregate  age   strength  \n",
       "0           676.0   28  79.986111  \n",
       "1           676.0   28  61.887366  \n",
       "2           594.0  270  40.269535  \n",
       "3           594.0  365  41.052780  \n",
       "4           825.5  360  44.296075  "
      ]
     },
     "execution_count": 1,
     "metadata": {},
     "output_type": "execute_result"
    }
   ],
   "source": [
    "import matplotlib.pyplot as plt\n",
    "import numpy as np\n",
    "import pandas as pd\n",
    "df = pd.read_csv('data/concrete_data.csv')\n",
    "df.head()"
   ]
  },
  {
   "cell_type": "code",
   "execution_count": 2,
   "id": "b57bd2d1-b577-4cc2-ae53-deb0a6ba308b",
   "metadata": {},
   "outputs": [
    {
     "data": {
      "text/plain": [
       "(1030, 9)"
      ]
     },
     "execution_count": 2,
     "metadata": {},
     "output_type": "execute_result"
    }
   ],
   "source": [
    "df.shape"
   ]
  },
  {
   "cell_type": "markdown",
   "id": "0a94f87c-4517-4f0d-bbaa-57d02e533fa1",
   "metadata": {},
   "source": [
    "## 1.1 Data Cleaning"
   ]
  },
  {
   "cell_type": "markdown",
   "id": "b7a31a1c-124d-4a20-9137-0d6c6c716ad0",
   "metadata": {},
   "source": [
    "How many duplicated rows are there in the dataset?"
   ]
  },
  {
   "cell_type": "code",
   "execution_count": 3,
   "id": "81b71185-d125-459f-8f93-25b8673fedb1",
   "metadata": {},
   "outputs": [
    {
     "data": {
      "text/plain": [
       "25"
      ]
     },
     "execution_count": 3,
     "metadata": {},
     "output_type": "execute_result"
    }
   ],
   "source": [
    "duplicate_count = len(df)-len(df.drop_duplicates()) # Original data lenght minus data length without duplicates\n",
    "\n",
    "duplicate_count"
   ]
  },
  {
   "cell_type": "code",
   "execution_count": 4,
   "id": "50bf0bbb-ca42-4423-8366-6b355b0d404b",
   "metadata": {},
   "outputs": [
    {
     "data": {
      "text/html": [
       "<div>\n",
       "<style scoped>\n",
       "    .dataframe tbody tr th:only-of-type {\n",
       "        vertical-align: middle;\n",
       "    }\n",
       "\n",
       "    .dataframe tbody tr th {\n",
       "        vertical-align: top;\n",
       "    }\n",
       "\n",
       "    .dataframe thead th {\n",
       "        text-align: right;\n",
       "    }\n",
       "</style>\n",
       "<table border=\"1\" class=\"dataframe\">\n",
       "  <thead>\n",
       "    <tr style=\"text-align: right;\">\n",
       "      <th></th>\n",
       "      <th>cement</th>\n",
       "      <th>slag</th>\n",
       "      <th>fly_ash</th>\n",
       "      <th>water</th>\n",
       "      <th>superplasticizer</th>\n",
       "      <th>coarse_aggregate</th>\n",
       "      <th>fine_aggregate</th>\n",
       "      <th>age</th>\n",
       "      <th>strength</th>\n",
       "    </tr>\n",
       "  </thead>\n",
       "  <tbody>\n",
       "    <tr>\n",
       "      <th>0</th>\n",
       "      <td>540.0</td>\n",
       "      <td>0.0</td>\n",
       "      <td>0.0</td>\n",
       "      <td>162.0</td>\n",
       "      <td>2.5</td>\n",
       "      <td>1040.0</td>\n",
       "      <td>676.0</td>\n",
       "      <td>28</td>\n",
       "      <td>79.986111</td>\n",
       "    </tr>\n",
       "    <tr>\n",
       "      <th>1</th>\n",
       "      <td>540.0</td>\n",
       "      <td>0.0</td>\n",
       "      <td>0.0</td>\n",
       "      <td>162.0</td>\n",
       "      <td>2.5</td>\n",
       "      <td>1055.0</td>\n",
       "      <td>676.0</td>\n",
       "      <td>28</td>\n",
       "      <td>61.887366</td>\n",
       "    </tr>\n",
       "    <tr>\n",
       "      <th>2</th>\n",
       "      <td>332.5</td>\n",
       "      <td>142.5</td>\n",
       "      <td>0.0</td>\n",
       "      <td>228.0</td>\n",
       "      <td>0.0</td>\n",
       "      <td>932.0</td>\n",
       "      <td>594.0</td>\n",
       "      <td>270</td>\n",
       "      <td>40.269535</td>\n",
       "    </tr>\n",
       "    <tr>\n",
       "      <th>3</th>\n",
       "      <td>332.5</td>\n",
       "      <td>142.5</td>\n",
       "      <td>0.0</td>\n",
       "      <td>228.0</td>\n",
       "      <td>0.0</td>\n",
       "      <td>932.0</td>\n",
       "      <td>594.0</td>\n",
       "      <td>365</td>\n",
       "      <td>41.052780</td>\n",
       "    </tr>\n",
       "    <tr>\n",
       "      <th>4</th>\n",
       "      <td>198.6</td>\n",
       "      <td>132.4</td>\n",
       "      <td>0.0</td>\n",
       "      <td>192.0</td>\n",
       "      <td>0.0</td>\n",
       "      <td>978.4</td>\n",
       "      <td>825.5</td>\n",
       "      <td>360</td>\n",
       "      <td>44.296075</td>\n",
       "    </tr>\n",
       "  </tbody>\n",
       "</table>\n",
       "</div>"
      ],
      "text/plain": [
       "   cement   slag  fly_ash  water  superplasticizer  coarse_aggregate  \\\n",
       "0   540.0    0.0      0.0  162.0               2.5            1040.0   \n",
       "1   540.0    0.0      0.0  162.0               2.5            1055.0   \n",
       "2   332.5  142.5      0.0  228.0               0.0             932.0   \n",
       "3   332.5  142.5      0.0  228.0               0.0             932.0   \n",
       "4   198.6  132.4      0.0  192.0               0.0             978.4   \n",
       "\n",
       "   fine_aggregate  age   strength  \n",
       "0           676.0   28  79.986111  \n",
       "1           676.0   28  61.887366  \n",
       "2           594.0  270  40.269535  \n",
       "3           594.0  365  41.052780  \n",
       "4           825.5  360  44.296075  "
      ]
     },
     "execution_count": 4,
     "metadata": {},
     "output_type": "execute_result"
    }
   ],
   "source": [
    "df.drop_duplicates(inplace=True) # Drop duplicates in place\n",
    "\n",
    "df.head()"
   ]
  },
  {
   "cell_type": "markdown",
   "id": "c58d89c2-76a4-4e97-87ca-213b6dda0021",
   "metadata": {},
   "source": [
    "Check the Missing Data"
   ]
  },
  {
   "cell_type": "code",
   "execution_count": 5,
   "id": "42a5d690-154d-44cd-80e8-18b3cfaa72f4",
   "metadata": {},
   "outputs": [
    {
     "data": {
      "text/plain": [
       "cement              0\n",
       "slag                0\n",
       "fly_ash             0\n",
       "water               0\n",
       "superplasticizer    0\n",
       "coarse_aggregate    0\n",
       "fine_aggregate      0\n",
       "age                 0\n",
       "strength            0\n",
       "dtype: int64"
      ]
     },
     "execution_count": 5,
     "metadata": {},
     "output_type": "execute_result"
    }
   ],
   "source": [
    "df.isnull().sum().sort_values(ascending=False)"
   ]
  },
  {
   "cell_type": "code",
   "execution_count": 6,
   "id": "bc3db7c0-2346-4bb2-8fc5-123f717e630a",
   "metadata": {},
   "outputs": [
    {
     "data": {
      "text/plain": [
       "(1005, 9)"
      ]
     },
     "execution_count": 6,
     "metadata": {},
     "output_type": "execute_result"
    }
   ],
   "source": [
    "df.shape"
   ]
  },
  {
   "cell_type": "markdown",
   "id": "277273f3-5819-46d5-843a-5e60b95af198",
   "metadata": {},
   "source": [
    "Finding & Removing Outliers"
   ]
  },
  {
   "cell_type": "code",
   "execution_count": 7,
   "id": "c4126621-2a80-40c2-8989-035d5e3c1d38",
   "metadata": {},
   "outputs": [
    {
     "data": {
      "image/png": "[encoded data removed]",
      "text/plain": [
       "<Figure size 432x288 with 1 Axes>"
      ]
     },
     "metadata": {
      "needs_background": "light"
     },
     "output_type": "display_data"
    },
    {
     "data": {
      "image/png": "[encoded data removed]",
      "text/plain": [
       "<Figure size 432x288 with 1 Axes>"
      ]
     },
     "metadata": {
      "needs_background": "light"
     },
     "output_type": "display_data"
    },
    {
     "data": {
      "image/png": "[encoded data removed]",
      "text/plain": [
       "<Figure size 432x288 with 1 Axes>"
      ]
     },
     "metadata": {
      "needs_background": "light"
     },
     "output_type": "display_data"
    },
    {
     "data": {
      "image/png": "[encoded data removed]",
      "text/plain": [
       "<Figure size 432x288 with 1 Axes>"
      ]
     },
     "metadata": {
      "needs_background": "light"
     },
     "output_type": "display_data"
    },
    {
     "data": {
      "image/png": "[encoded data removed]",
      "text/plain": [
       "<Figure size 432x288 with 1 Axes>"
      ]
     },
     "metadata": {
      "needs_background": "light"
     },
     "output_type": "display_data"
    },
    {
     "data": {
      "image/png": "[encoded data removed]",
      "text/plain": [
       "<Figure size 432x288 with 1 Axes>"
      ]
     },
     "metadata": {
      "needs_background": "light"
     },
     "output_type": "display_data"
    },
    {
     "data": {
      "image/png": "[encoded data removed]",
      "text/plain": [
       "<Figure size 432x288 with 1 Axes>"
      ]
     },
     "metadata": {
      "needs_background": "light"
     },
     "output_type": "display_data"
    }
   ],
   "source": [
    "(df[['cement']].boxplot())\n",
    "plt.show()\n",
    "(df[['slag']].boxplot())\n",
    "plt.show()\n",
    "(df[['fly_ash']].boxplot())\n",
    "plt.show()\n",
    "(df[['water']].boxplot())\n",
    "plt.show()\n",
    "(df[['superplasticizer']].boxplot())\n",
    "plt.show()\n",
    "(df[['coarse_aggregate']].boxplot())\n",
    "plt.show()\n",
    "(df[['fine_aggregate']].boxplot())\n",
    "plt.show()\n",
    "\n"
   ]
  },
  {
   "cell_type": "markdown",
   "id": "0734d7e1-33d8-41df-acad-70fff5c0e5bf",
   "metadata": {},
   "source": [
    "Droping outliers"
   ]
  },
  {
   "cell_type": "code",
   "execution_count": 8,
   "id": "e7d6d16f-db80-49e2-9c86-c8c7af8d9160",
   "metadata": {},
   "outputs": [
    {
     "data": {
      "text/html": [
       "<div>\n",
       "<style scoped>\n",
       "    .dataframe tbody tr th:only-of-type {\n",
       "        vertical-align: middle;\n",
       "    }\n",
       "\n",
       "    .dataframe tbody tr th {\n",
       "        vertical-align: top;\n",
       "    }\n",
       "\n",
       "    .dataframe thead th {\n",
       "        text-align: right;\n",
       "    }\n",
       "</style>\n",
       "<table border=\"1\" class=\"dataframe\">\n",
       "  <thead>\n",
       "    <tr style=\"text-align: right;\">\n",
       "      <th></th>\n",
       "      <th>cement</th>\n",
       "      <th>slag</th>\n",
       "      <th>fly_ash</th>\n",
       "      <th>water</th>\n",
       "      <th>superplasticizer</th>\n",
       "      <th>coarse_aggregate</th>\n",
       "      <th>fine_aggregate</th>\n",
       "      <th>age</th>\n",
       "      <th>strength</th>\n",
       "    </tr>\n",
       "  </thead>\n",
       "  <tbody>\n",
       "    <tr>\n",
       "      <th>0</th>\n",
       "      <td>540.0</td>\n",
       "      <td>0.0</td>\n",
       "      <td>0.0</td>\n",
       "      <td>162.0</td>\n",
       "      <td>2.5</td>\n",
       "      <td>1040.0</td>\n",
       "      <td>676.0</td>\n",
       "      <td>28</td>\n",
       "      <td>79.986111</td>\n",
       "    </tr>\n",
       "    <tr>\n",
       "      <th>1</th>\n",
       "      <td>540.0</td>\n",
       "      <td>0.0</td>\n",
       "      <td>0.0</td>\n",
       "      <td>162.0</td>\n",
       "      <td>2.5</td>\n",
       "      <td>1055.0</td>\n",
       "      <td>676.0</td>\n",
       "      <td>28</td>\n",
       "      <td>61.887366</td>\n",
       "    </tr>\n",
       "    <tr>\n",
       "      <th>5</th>\n",
       "      <td>266.0</td>\n",
       "      <td>114.0</td>\n",
       "      <td>0.0</td>\n",
       "      <td>228.0</td>\n",
       "      <td>0.0</td>\n",
       "      <td>932.0</td>\n",
       "      <td>670.0</td>\n",
       "      <td>90</td>\n",
       "      <td>47.029847</td>\n",
       "    </tr>\n",
       "    <tr>\n",
       "      <th>7</th>\n",
       "      <td>380.0</td>\n",
       "      <td>95.0</td>\n",
       "      <td>0.0</td>\n",
       "      <td>228.0</td>\n",
       "      <td>0.0</td>\n",
       "      <td>932.0</td>\n",
       "      <td>594.0</td>\n",
       "      <td>28</td>\n",
       "      <td>36.447770</td>\n",
       "    </tr>\n",
       "    <tr>\n",
       "      <th>8</th>\n",
       "      <td>266.0</td>\n",
       "      <td>114.0</td>\n",
       "      <td>0.0</td>\n",
       "      <td>228.0</td>\n",
       "      <td>0.0</td>\n",
       "      <td>932.0</td>\n",
       "      <td>670.0</td>\n",
       "      <td>28</td>\n",
       "      <td>45.854291</td>\n",
       "    </tr>\n",
       "    <tr>\n",
       "      <th>...</th>\n",
       "      <td>...</td>\n",
       "      <td>...</td>\n",
       "      <td>...</td>\n",
       "      <td>...</td>\n",
       "      <td>...</td>\n",
       "      <td>...</td>\n",
       "      <td>...</td>\n",
       "      <td>...</td>\n",
       "      <td>...</td>\n",
       "    </tr>\n",
       "    <tr>\n",
       "      <th>1025</th>\n",
       "      <td>276.4</td>\n",
       "      <td>116.0</td>\n",
       "      <td>90.3</td>\n",
       "      <td>179.6</td>\n",
       "      <td>8.9</td>\n",
       "      <td>870.1</td>\n",
       "      <td>768.3</td>\n",
       "      <td>28</td>\n",
       "      <td>44.284354</td>\n",
       "    </tr>\n",
       "    <tr>\n",
       "      <th>1026</th>\n",
       "      <td>322.2</td>\n",
       "      <td>0.0</td>\n",
       "      <td>115.6</td>\n",
       "      <td>196.0</td>\n",
       "      <td>10.4</td>\n",
       "      <td>817.9</td>\n",
       "      <td>813.4</td>\n",
       "      <td>28</td>\n",
       "      <td>31.178794</td>\n",
       "    </tr>\n",
       "    <tr>\n",
       "      <th>1027</th>\n",
       "      <td>148.5</td>\n",
       "      <td>139.4</td>\n",
       "      <td>108.6</td>\n",
       "      <td>192.7</td>\n",
       "      <td>6.1</td>\n",
       "      <td>892.4</td>\n",
       "      <td>780.0</td>\n",
       "      <td>28</td>\n",
       "      <td>23.696601</td>\n",
       "    </tr>\n",
       "    <tr>\n",
       "      <th>1028</th>\n",
       "      <td>159.1</td>\n",
       "      <td>186.7</td>\n",
       "      <td>0.0</td>\n",
       "      <td>175.6</td>\n",
       "      <td>11.3</td>\n",
       "      <td>989.6</td>\n",
       "      <td>788.9</td>\n",
       "      <td>28</td>\n",
       "      <td>32.768036</td>\n",
       "    </tr>\n",
       "    <tr>\n",
       "      <th>1029</th>\n",
       "      <td>260.9</td>\n",
       "      <td>100.5</td>\n",
       "      <td>78.3</td>\n",
       "      <td>200.6</td>\n",
       "      <td>8.6</td>\n",
       "      <td>864.5</td>\n",
       "      <td>761.5</td>\n",
       "      <td>28</td>\n",
       "      <td>32.401235</td>\n",
       "    </tr>\n",
       "  </tbody>\n",
       "</table>\n",
       "<p>956 rows × 9 columns</p>\n",
       "</div>"
      ],
      "text/plain": [
       "      cement   slag  fly_ash  water  superplasticizer  coarse_aggregate  \\\n",
       "0      540.0    0.0      0.0  162.0               2.5            1040.0   \n",
       "1      540.0    0.0      0.0  162.0               2.5            1055.0   \n",
       "5      266.0  114.0      0.0  228.0               0.0             932.0   \n",
       "7      380.0   95.0      0.0  228.0               0.0             932.0   \n",
       "8      266.0  114.0      0.0  228.0               0.0             932.0   \n",
       "...      ...    ...      ...    ...               ...               ...   \n",
       "1025   276.4  116.0     90.3  179.6               8.9             870.1   \n",
       "1026   322.2    0.0    115.6  196.0              10.4             817.9   \n",
       "1027   148.5  139.4    108.6  192.7               6.1             892.4   \n",
       "1028   159.1  186.7      0.0  175.6              11.3             989.6   \n",
       "1029   260.9  100.5     78.3  200.6               8.6             864.5   \n",
       "\n",
       "      fine_aggregate  age   strength  \n",
       "0              676.0   28  79.986111  \n",
       "1              676.0   28  61.887366  \n",
       "5              670.0   90  47.029847  \n",
       "7              594.0   28  36.447770  \n",
       "8              670.0   28  45.854291  \n",
       "...              ...  ...        ...  \n",
       "1025           768.3   28  44.284354  \n",
       "1026           813.4   28  31.178794  \n",
       "1027           780.0   28  23.696601  \n",
       "1028           788.9   28  32.768036  \n",
       "1029           761.5   28  32.401235  \n",
       "\n",
       "[956 rows x 9 columns]"
      ]
     },
     "execution_count": 8,
     "metadata": {},
     "output_type": "execute_result"
    }
   ],
   "source": [
    "from scipy import stats\n",
    "df[(np.abs(stats.zscore(df)) < 3).all(axis=1)]"
   ]
  },
  {
   "cell_type": "markdown",
   "id": "742aade9-4e63-4db5-bf09-1d97ef080a74",
   "metadata": {},
   "source": [
    "## 1.2 Feature Scaling"
   ]
  },
  {
   "cell_type": "code",
   "execution_count": 9,
   "id": "94169bcf-6789-46fe-9485-24ec721bf8b9",
   "metadata": {},
   "outputs": [
    {
     "data": {
      "text/html": [
       "<div>\n",
       "<style scoped>\n",
       "    .dataframe tbody tr th:only-of-type {\n",
       "        vertical-align: middle;\n",
       "    }\n",
       "\n",
       "    .dataframe tbody tr th {\n",
       "        vertical-align: top;\n",
       "    }\n",
       "\n",
       "    .dataframe thead th {\n",
       "        text-align: right;\n",
       "    }\n",
       "</style>\n",
       "<table border=\"1\" class=\"dataframe\">\n",
       "  <thead>\n",
       "    <tr style=\"text-align: right;\">\n",
       "      <th></th>\n",
       "      <th>cement</th>\n",
       "      <th>slag</th>\n",
       "      <th>fly_ash</th>\n",
       "      <th>water</th>\n",
       "      <th>superplasticizer</th>\n",
       "      <th>coarse_aggregate</th>\n",
       "      <th>fine_aggregate</th>\n",
       "      <th>age</th>\n",
       "      <th>strength</th>\n",
       "    </tr>\n",
       "  </thead>\n",
       "  <tbody>\n",
       "    <tr>\n",
       "      <th>0</th>\n",
       "      <td>1.736988</td>\n",
       "      <td>-0.140351</td>\n",
       "      <td>0.000000</td>\n",
       "      <td>-0.900114</td>\n",
       "      <td>-0.36</td>\n",
       "      <td>0.727273</td>\n",
       "      <td>-1.062308</td>\n",
       "      <td>0.000000</td>\n",
       "      <td>79.986111</td>\n",
       "    </tr>\n",
       "    <tr>\n",
       "      <th>1</th>\n",
       "      <td>1.736988</td>\n",
       "      <td>-0.140351</td>\n",
       "      <td>0.000000</td>\n",
       "      <td>-0.900114</td>\n",
       "      <td>-0.36</td>\n",
       "      <td>0.878788</td>\n",
       "      <td>-1.062308</td>\n",
       "      <td>0.000000</td>\n",
       "      <td>61.887366</td>\n",
       "    </tr>\n",
       "    <tr>\n",
       "      <th>2</th>\n",
       "      <td>0.426352</td>\n",
       "      <td>0.859649</td>\n",
       "      <td>0.000000</td>\n",
       "      <td>1.606532</td>\n",
       "      <td>-0.61</td>\n",
       "      <td>-0.363636</td>\n",
       "      <td>-1.899898</td>\n",
       "      <td>4.938776</td>\n",
       "      <td>40.269535</td>\n",
       "    </tr>\n",
       "    <tr>\n",
       "      <th>3</th>\n",
       "      <td>0.426352</td>\n",
       "      <td>0.859649</td>\n",
       "      <td>0.000000</td>\n",
       "      <td>1.606532</td>\n",
       "      <td>-0.61</td>\n",
       "      <td>-0.363636</td>\n",
       "      <td>-1.899898</td>\n",
       "      <td>6.877551</td>\n",
       "      <td>41.052780</td>\n",
       "    </tr>\n",
       "    <tr>\n",
       "      <th>4</th>\n",
       "      <td>-0.419404</td>\n",
       "      <td>0.788772</td>\n",
       "      <td>0.000000</td>\n",
       "      <td>0.239271</td>\n",
       "      <td>-0.61</td>\n",
       "      <td>0.105051</td>\n",
       "      <td>0.464760</td>\n",
       "      <td>6.775510</td>\n",
       "      <td>44.296075</td>\n",
       "    </tr>\n",
       "    <tr>\n",
       "      <th>...</th>\n",
       "      <td>...</td>\n",
       "      <td>...</td>\n",
       "      <td>...</td>\n",
       "      <td>...</td>\n",
       "      <td>...</td>\n",
       "      <td>...</td>\n",
       "      <td>...</td>\n",
       "      <td>...</td>\n",
       "      <td>...</td>\n",
       "    </tr>\n",
       "    <tr>\n",
       "      <th>1025</th>\n",
       "      <td>0.072006</td>\n",
       "      <td>0.673684</td>\n",
       "      <td>0.763507</td>\n",
       "      <td>-0.231675</td>\n",
       "      <td>0.28</td>\n",
       "      <td>-0.988889</td>\n",
       "      <td>-0.119510</td>\n",
       "      <td>0.000000</td>\n",
       "      <td>44.284354</td>\n",
       "    </tr>\n",
       "    <tr>\n",
       "      <th>1026</th>\n",
       "      <td>0.361294</td>\n",
       "      <td>-0.140351</td>\n",
       "      <td>0.977425</td>\n",
       "      <td>0.391189</td>\n",
       "      <td>0.43</td>\n",
       "      <td>-1.516162</td>\n",
       "      <td>0.341164</td>\n",
       "      <td>0.000000</td>\n",
       "      <td>31.178794</td>\n",
       "    </tr>\n",
       "    <tr>\n",
       "      <th>1027</th>\n",
       "      <td>-0.735851</td>\n",
       "      <td>0.837895</td>\n",
       "      <td>0.918238</td>\n",
       "      <td>0.265856</td>\n",
       "      <td>0.00</td>\n",
       "      <td>-0.763636</td>\n",
       "      <td>0.000000</td>\n",
       "      <td>0.000000</td>\n",
       "      <td>23.696601</td>\n",
       "    </tr>\n",
       "    <tr>\n",
       "      <th>1028</th>\n",
       "      <td>-0.668898</td>\n",
       "      <td>1.169825</td>\n",
       "      <td>0.000000</td>\n",
       "      <td>-0.383593</td>\n",
       "      <td>0.52</td>\n",
       "      <td>0.218182</td>\n",
       "      <td>0.090909</td>\n",
       "      <td>0.000000</td>\n",
       "      <td>32.768036</td>\n",
       "    </tr>\n",
       "    <tr>\n",
       "      <th>1029</th>\n",
       "      <td>-0.025897</td>\n",
       "      <td>0.564912</td>\n",
       "      <td>0.662044</td>\n",
       "      <td>0.565894</td>\n",
       "      <td>0.25</td>\n",
       "      <td>-1.045455</td>\n",
       "      <td>-0.188968</td>\n",
       "      <td>0.000000</td>\n",
       "      <td>32.401235</td>\n",
       "    </tr>\n",
       "  </tbody>\n",
       "</table>\n",
       "<p>1005 rows × 9 columns</p>\n",
       "</div>"
      ],
      "text/plain": [
       "        cement      slag   fly_ash     water  superplasticizer  \\\n",
       "0     1.736988 -0.140351  0.000000 -0.900114             -0.36   \n",
       "1     1.736988 -0.140351  0.000000 -0.900114             -0.36   \n",
       "2     0.426352  0.859649  0.000000  1.606532             -0.61   \n",
       "3     0.426352  0.859649  0.000000  1.606532             -0.61   \n",
       "4    -0.419404  0.788772  0.000000  0.239271             -0.61   \n",
       "...        ...       ...       ...       ...               ...   \n",
       "1025  0.072006  0.673684  0.763507 -0.231675              0.28   \n",
       "1026  0.361294 -0.140351  0.977425  0.391189              0.43   \n",
       "1027 -0.735851  0.837895  0.918238  0.265856              0.00   \n",
       "1028 -0.668898  1.169825  0.000000 -0.383593              0.52   \n",
       "1029 -0.025897  0.564912  0.662044  0.565894              0.25   \n",
       "\n",
       "      coarse_aggregate  fine_aggregate       age   strength  \n",
       "0             0.727273       -1.062308  0.000000  79.986111  \n",
       "1             0.878788       -1.062308  0.000000  61.887366  \n",
       "2            -0.363636       -1.899898  4.938776  40.269535  \n",
       "3            -0.363636       -1.899898  6.877551  41.052780  \n",
       "4             0.105051        0.464760  6.775510  44.296075  \n",
       "...                ...             ...       ...        ...  \n",
       "1025         -0.988889       -0.119510  0.000000  44.284354  \n",
       "1026         -1.516162        0.341164  0.000000  31.178794  \n",
       "1027         -0.763636        0.000000  0.000000  23.696601  \n",
       "1028          0.218182        0.090909  0.000000  32.768036  \n",
       "1029         -1.045455       -0.188968  0.000000  32.401235  \n",
       "\n",
       "[1005 rows x 9 columns]"
      ]
     },
     "execution_count": 9,
     "metadata": {},
     "output_type": "execute_result"
    }
   ],
   "source": [
    "df=df.copy()\n",
    "from sklearn.preprocessing import StandardScaler\n",
    "from sklearn.preprocessing import MinMaxScaler\n",
    "from sklearn.preprocessing import RobustScaler\n",
    "\n",
    "scaler = RobustScaler() \n",
    " \n",
    "# make a copy of dataframe\n",
    "scaled_features = df.copy()\n",
    "\n",
    "col_names = ['cement', 'slag', 'fly_ash', 'water','superplasticizer','coarse_aggregate','fine_aggregate','age']\n",
    "features = scaled_features[col_names]\n",
    "\n",
    "# Use scaler of choice; here Standard scaler is used\n",
    "features = scaler.fit_transform(features.values)\n",
    "\n",
    "scaled_features[col_names] = features\n",
    "scaled_features"
   ]
  },
  {
   "cell_type": "code",
   "execution_count": 10,
   "id": "6ec1910c-ef14-43ac-af40-3d14a29f3be8",
   "metadata": {},
   "outputs": [],
   "source": [
    "X = scaled_features.drop(columns=['strength'])\n",
    "y = scaled_features['strength']"
   ]
  },
  {
   "cell_type": "code",
   "execution_count": 11,
   "id": "71e04392-cd19-4e2e-a871-08e13c6dbc8a",
   "metadata": {},
   "outputs": [
    {
     "data": {
      "text/html": [
       "<div>\n",
       "<style scoped>\n",
       "    .dataframe tbody tr th:only-of-type {\n",
       "        vertical-align: middle;\n",
       "    }\n",
       "\n",
       "    .dataframe tbody tr th {\n",
       "        vertical-align: top;\n",
       "    }\n",
       "\n",
       "    .dataframe thead th {\n",
       "        text-align: right;\n",
       "    }\n",
       "</style>\n",
       "<table border=\"1\" class=\"dataframe\">\n",
       "  <thead>\n",
       "    <tr style=\"text-align: right;\">\n",
       "      <th></th>\n",
       "      <th>cement</th>\n",
       "      <th>slag</th>\n",
       "      <th>fly_ash</th>\n",
       "      <th>water</th>\n",
       "      <th>superplasticizer</th>\n",
       "      <th>coarse_aggregate</th>\n",
       "      <th>fine_aggregate</th>\n",
       "      <th>age</th>\n",
       "    </tr>\n",
       "  </thead>\n",
       "  <tbody>\n",
       "    <tr>\n",
       "      <th>0</th>\n",
       "      <td>1.736988</td>\n",
       "      <td>-0.140351</td>\n",
       "      <td>0.000000</td>\n",
       "      <td>-0.900114</td>\n",
       "      <td>-0.36</td>\n",
       "      <td>0.727273</td>\n",
       "      <td>-1.062308</td>\n",
       "      <td>0.000000</td>\n",
       "    </tr>\n",
       "    <tr>\n",
       "      <th>1</th>\n",
       "      <td>1.736988</td>\n",
       "      <td>-0.140351</td>\n",
       "      <td>0.000000</td>\n",
       "      <td>-0.900114</td>\n",
       "      <td>-0.36</td>\n",
       "      <td>0.878788</td>\n",
       "      <td>-1.062308</td>\n",
       "      <td>0.000000</td>\n",
       "    </tr>\n",
       "    <tr>\n",
       "      <th>2</th>\n",
       "      <td>0.426352</td>\n",
       "      <td>0.859649</td>\n",
       "      <td>0.000000</td>\n",
       "      <td>1.606532</td>\n",
       "      <td>-0.61</td>\n",
       "      <td>-0.363636</td>\n",
       "      <td>-1.899898</td>\n",
       "      <td>4.938776</td>\n",
       "    </tr>\n",
       "    <tr>\n",
       "      <th>3</th>\n",
       "      <td>0.426352</td>\n",
       "      <td>0.859649</td>\n",
       "      <td>0.000000</td>\n",
       "      <td>1.606532</td>\n",
       "      <td>-0.61</td>\n",
       "      <td>-0.363636</td>\n",
       "      <td>-1.899898</td>\n",
       "      <td>6.877551</td>\n",
       "    </tr>\n",
       "    <tr>\n",
       "      <th>4</th>\n",
       "      <td>-0.419404</td>\n",
       "      <td>0.788772</td>\n",
       "      <td>0.000000</td>\n",
       "      <td>0.239271</td>\n",
       "      <td>-0.61</td>\n",
       "      <td>0.105051</td>\n",
       "      <td>0.464760</td>\n",
       "      <td>6.775510</td>\n",
       "    </tr>\n",
       "    <tr>\n",
       "      <th>...</th>\n",
       "      <td>...</td>\n",
       "      <td>...</td>\n",
       "      <td>...</td>\n",
       "      <td>...</td>\n",
       "      <td>...</td>\n",
       "      <td>...</td>\n",
       "      <td>...</td>\n",
       "      <td>...</td>\n",
       "    </tr>\n",
       "    <tr>\n",
       "      <th>1025</th>\n",
       "      <td>0.072006</td>\n",
       "      <td>0.673684</td>\n",
       "      <td>0.763507</td>\n",
       "      <td>-0.231675</td>\n",
       "      <td>0.28</td>\n",
       "      <td>-0.988889</td>\n",
       "      <td>-0.119510</td>\n",
       "      <td>0.000000</td>\n",
       "    </tr>\n",
       "    <tr>\n",
       "      <th>1026</th>\n",
       "      <td>0.361294</td>\n",
       "      <td>-0.140351</td>\n",
       "      <td>0.977425</td>\n",
       "      <td>0.391189</td>\n",
       "      <td>0.43</td>\n",
       "      <td>-1.516162</td>\n",
       "      <td>0.341164</td>\n",
       "      <td>0.000000</td>\n",
       "    </tr>\n",
       "    <tr>\n",
       "      <th>1027</th>\n",
       "      <td>-0.735851</td>\n",
       "      <td>0.837895</td>\n",
       "      <td>0.918238</td>\n",
       "      <td>0.265856</td>\n",
       "      <td>0.00</td>\n",
       "      <td>-0.763636</td>\n",
       "      <td>0.000000</td>\n",
       "      <td>0.000000</td>\n",
       "    </tr>\n",
       "    <tr>\n",
       "      <th>1028</th>\n",
       "      <td>-0.668898</td>\n",
       "      <td>1.169825</td>\n",
       "      <td>0.000000</td>\n",
       "      <td>-0.383593</td>\n",
       "      <td>0.52</td>\n",
       "      <td>0.218182</td>\n",
       "      <td>0.090909</td>\n",
       "      <td>0.000000</td>\n",
       "    </tr>\n",
       "    <tr>\n",
       "      <th>1029</th>\n",
       "      <td>-0.025897</td>\n",
       "      <td>0.564912</td>\n",
       "      <td>0.662044</td>\n",
       "      <td>0.565894</td>\n",
       "      <td>0.25</td>\n",
       "      <td>-1.045455</td>\n",
       "      <td>-0.188968</td>\n",
       "      <td>0.000000</td>\n",
       "    </tr>\n",
       "  </tbody>\n",
       "</table>\n",
       "<p>1005 rows × 8 columns</p>\n",
       "</div>"
      ],
      "text/plain": [
       "        cement      slag   fly_ash     water  superplasticizer  \\\n",
       "0     1.736988 -0.140351  0.000000 -0.900114             -0.36   \n",
       "1     1.736988 -0.140351  0.000000 -0.900114             -0.36   \n",
       "2     0.426352  0.859649  0.000000  1.606532             -0.61   \n",
       "3     0.426352  0.859649  0.000000  1.606532             -0.61   \n",
       "4    -0.419404  0.788772  0.000000  0.239271             -0.61   \n",
       "...        ...       ...       ...       ...               ...   \n",
       "1025  0.072006  0.673684  0.763507 -0.231675              0.28   \n",
       "1026  0.361294 -0.140351  0.977425  0.391189              0.43   \n",
       "1027 -0.735851  0.837895  0.918238  0.265856              0.00   \n",
       "1028 -0.668898  1.169825  0.000000 -0.383593              0.52   \n",
       "1029 -0.025897  0.564912  0.662044  0.565894              0.25   \n",
       "\n",
       "      coarse_aggregate  fine_aggregate       age  \n",
       "0             0.727273       -1.062308  0.000000  \n",
       "1             0.878788       -1.062308  0.000000  \n",
       "2            -0.363636       -1.899898  4.938776  \n",
       "3            -0.363636       -1.899898  6.877551  \n",
       "4             0.105051        0.464760  6.775510  \n",
       "...                ...             ...       ...  \n",
       "1025         -0.988889       -0.119510  0.000000  \n",
       "1026         -1.516162        0.341164  0.000000  \n",
       "1027         -0.763636        0.000000  0.000000  \n",
       "1028          0.218182        0.090909  0.000000  \n",
       "1029         -1.045455       -0.188968  0.000000  \n",
       "\n",
       "[1005 rows x 8 columns]"
      ]
     },
     "execution_count": 11,
     "metadata": {},
     "output_type": "execute_result"
    }
   ],
   "source": [
    "X"
   ]
  },
  {
   "cell_type": "markdown",
   "id": "a40ba79f-bbc1-4e40-a718-daf6b4ac9c94",
   "metadata": {},
   "source": [
    "Features Corrolation"
   ]
  },
  {
   "cell_type": "code",
   "execution_count": 12,
   "id": "8544c48a-e5a8-4aac-b566-a8bd48899799",
   "metadata": {},
   "outputs": [
    {
     "data": {
      "text/plain": [
       "<AxesSubplot:>"
      ]
     },
     "execution_count": 12,
     "metadata": {},
     "output_type": "execute_result"
    },
    {
     "data": {
      "image/png": "[encoded data removed]",
      "text/plain": [
       "<Figure size 432x288 with 2 Axes>"
      ]
     },
     "metadata": {
      "needs_background": "light"
     },
     "output_type": "display_data"
    }
   ],
   "source": [
    "import seaborn as sns\n",
    "\n",
    "corr = scaled_features.corr() # Pearson Correlation\n",
    "\n",
    "# Heatmap\n",
    "sns.heatmap(corr, \n",
    "        xticklabels=corr.columns,\n",
    "        yticklabels=corr.columns,\n",
    "        cmap= \"YlGnBu\")\n"
   ]
  },
  {
   "cell_type": "markdown",
   "id": "1f0cce6b-58c5-48a1-a66d-d3122618fe27",
   "metadata": {},
   "source": [
    "# 2.Modeling"
   ]
  },
  {
   "cell_type": "markdown",
   "id": "c14dd0ea-162b-4324-851a-1d5ccfe0750a",
   "metadata": {},
   "source": [
    "## 2.1 Base Model (XGBRegressor)"
   ]
  },
  {
   "cell_type": "markdown",
   "id": "f9fc1ec0-a1fc-474c-a49b-2241b564a6d8",
   "metadata": {},
   "source": [
    "Data Spliting"
   ]
  },
  {
   "cell_type": "code",
   "execution_count": 13,
   "id": "c2dda0a0-2e86-4c9a-9217-52e185c09a86",
   "metadata": {},
   "outputs": [],
   "source": [
    "from sklearn.model_selection import train_test_split\n",
    "X_train, X_test, y_train, y_test = train_test_split(X, y, test_size=0.33, random_state=0)"
   ]
  },
  {
   "cell_type": "markdown",
   "id": "e901bf6e-e84e-4dbc-b3c8-b724bdbb23f7",
   "metadata": {},
   "source": [
    "Cross Validating"
   ]
  },
  {
   "cell_type": "code",
   "execution_count": 14,
   "id": "65d9210f-f1fb-4e07-b96a-cc72a1e73149",
   "metadata": {},
   "outputs": [
    {
     "data": {
      "text/plain": [
       "0.9023611671642146"
      ]
     },
     "execution_count": 14,
     "metadata": {},
     "output_type": "execute_result"
    }
   ],
   "source": [
    "from sklearn.linear_model import LinearRegression\n",
    "from sklearn.model_selection import cross_val_score\n",
    "import xgboost as xg\n",
    "from sklearn.model_selection import train_test_split\n",
    "from sklearn.metrics import mean_squared_error as MSE\n",
    "\n",
    "#model = LinearRegression()\n",
    "model= xg.XGBRegressor(objective='reg:squarederror')\n",
    "\n",
    "scores = cross_val_score(model, X_train, y_train, cv=10)\n",
    "\n",
    "base_model_score = scores.mean()\n",
    "\n",
    "base_model_score"
   ]
  },
  {
   "cell_type": "markdown",
   "id": "91173845-d88f-4dd8-8884-f8d483a77afe",
   "metadata": {},
   "source": [
    "KNN Model"
   ]
  },
  {
   "cell_type": "code",
   "execution_count": 15,
   "id": "ed6b25a4-ec99-47cf-8ccf-7d5742c02fff",
   "metadata": {},
   "outputs": [
    {
     "data": {
      "text/plain": [
       "0.6547631929821878"
      ]
     },
     "execution_count": 15,
     "metadata": {},
     "output_type": "execute_result"
    }
   ],
   "source": [
    "from sklearn.neighbors import KNeighborsRegressor\n",
    "\n",
    "knn = KNeighborsRegressor(n_neighbors=1)\n",
    "\n",
    "scores = cross_val_score(knn, X_train, y_train, cv=10)\n",
    "\n",
    "base_model_score = scores.mean()\n",
    "\n",
    "base_model_score"
   ]
  },
  {
   "cell_type": "code",
   "execution_count": 16,
   "id": "d229205b-0773-4e8b-bd2f-cb088f872b58",
   "metadata": {},
   "outputs": [
    {
     "data": {
      "text/plain": [
       "GridSearchCV(cv=5, error_score=nan,\n",
       "             estimator=KNeighborsRegressor(algorithm='auto', leaf_size=30,\n",
       "                                           metric='minkowski',\n",
       "                                           metric_params=None, n_jobs=None,\n",
       "                                           n_neighbors=5, p=2,\n",
       "                                           weights='uniform'),\n",
       "             iid='deprecated', n_jobs=-1,\n",
       "             param_grid={'n_neighbors': [1, 5, 10, 20, 50]},\n",
       "             pre_dispatch='2*n_jobs', refit=True, return_train_score=False,\n",
       "             scoring=None, verbose=0)"
      ]
     },
     "execution_count": 16,
     "metadata": {},
     "output_type": "execute_result"
    }
   ],
   "source": [
    "from sklearn.model_selection import GridSearchCV\n",
    "\n",
    "# Instanciate model\n",
    "model = KNeighborsRegressor()\n",
    "\n",
    "# Hyperparameter Grid\n",
    "k_grid = {'n_neighbors' : [1,5,10,20,50]}\n",
    "\n",
    "# Instanciate Grid Search\n",
    "grid = GridSearchCV(model, k_grid, n_jobs=-1,  cv = 5)\n",
    "\n",
    "# Fit data to Grid Search\n",
    "grid.fit(X_train, y_train)"
   ]
  },
  {
   "cell_type": "code",
   "execution_count": 17,
   "id": "c954b636-6f19-4003-a2d3-dd60e64a3446",
   "metadata": {},
   "outputs": [
    {
     "data": {
      "text/plain": [
       "{'n_neighbors': 5}"
      ]
     },
     "execution_count": 17,
     "metadata": {},
     "output_type": "execute_result"
    }
   ],
   "source": [
    "grid.best_params_"
   ]
  },
  {
   "cell_type": "code",
   "execution_count": 18,
   "id": "5ae8812d-f6da-41c5-b139-54c3e8554806",
   "metadata": {},
   "outputs": [
    {
     "data": {
      "text/plain": [
       "0.7026838369520164"
      ]
     },
     "execution_count": 18,
     "metadata": {},
     "output_type": "execute_result"
    }
   ],
   "source": [
    "knn = KNeighborsRegressor(n_neighbors=5)\n",
    "\n",
    "scores = cross_val_score(knn, X_train, y_train, cv=10)\n",
    "\n",
    "base_model_score = scores.mean()\n",
    "\n",
    "base_model_score"
   ]
  },
  {
   "cell_type": "markdown",
   "id": "1f79d305-1e2d-4bab-b640-c30b181d6f92",
   "metadata": {},
   "source": [
    "XGBRegressor Model fine tunning\n"
   ]
  },
  {
   "cell_type": "code",
   "execution_count": 19,
   "id": "cc55bbe0-8d6c-4c97-a4b8-f4c1d54820c4",
   "metadata": {},
   "outputs": [
    {
     "data": {
      "text/plain": [
       "0.911087679649443"
      ]
     },
     "execution_count": 19,
     "metadata": {},
     "output_type": "execute_result"
    }
   ],
   "source": [
    "model= xg.XGBRegressor(objective='reg:squarederror',n_estimators=1000,learning_rate=0.05)\n",
    "\n",
    "scores = cross_val_score(model, X_train, y_train, cv=10)\n",
    "\n",
    "base_model_score = scores.mean()\n",
    "\n",
    "base_model_score"
   ]
  },
  {
   "cell_type": "code",
   "execution_count": 20,
   "id": "d3c5e827-5288-432c-bf22-d2e8dbabe17b",
   "metadata": {},
   "outputs": [
    {
     "data": {
      "text/plain": [
       "0.9121805298280934"
      ]
     },
     "execution_count": 20,
     "metadata": {},
     "output_type": "execute_result"
    }
   ],
   "source": [
    "model= xg.XGBRegressor(objective='reg:squarederror',n_estimators=1000,learning_rate=0.05)\n",
    "trained_model = model.fit(X_train,y_train)\n",
    "model.score(X_test,y_test)"
   ]
  },
  {
   "cell_type": "markdown",
   "id": "ec39bdb8-d647-4a9c-900f-0952cdaf330f",
   "metadata": {},
   "source": [
    "We choose the \"XGBRegressor\" for better result"
   ]
  },
  {
   "cell_type": "markdown",
   "id": "7036a4bd-d393-4e5b-bfef-0718b0c5a8f3",
   "metadata": {},
   "source": [
    "# 3.Input New Data "
   ]
  },
  {
   "cell_type": "code",
   "execution_count": 21,
   "id": "2cff198f-a874-4dab-abb4-bbf5f5231c9c",
   "metadata": {},
   "outputs": [
    {
     "name": "stdout",
     "output_type": "stream",
     "text": [
      "['cement', 'slag', 'fly_ash', 'water', 'superplasticizer', 'coarse_aggregate', 'fine_aggregate', 'age', 'strength']\n"
     ]
    }
   ],
   "source": [
    "print(df.columns.values.tolist())"
   ]
  },
  {
   "cell_type": "markdown",
   "id": "354e8970-e214-4a3d-8b9c-be3f09396da3",
   "metadata": {},
   "source": [
    "## 3.1 Test the sample"
   ]
  },
  {
   "cell_type": "code",
   "execution_count": 22,
   "id": "330b2a57-5a3e-4061-a467-73a22e1a9650",
   "metadata": {},
   "outputs": [
    {
     "data": {
      "text/html": [
       "<div>\n",
       "<style scoped>\n",
       "    .dataframe tbody tr th:only-of-type {\n",
       "        vertical-align: middle;\n",
       "    }\n",
       "\n",
       "    .dataframe tbody tr th {\n",
       "        vertical-align: top;\n",
       "    }\n",
       "\n",
       "    .dataframe thead th {\n",
       "        text-align: right;\n",
       "    }\n",
       "</style>\n",
       "<table border=\"1\" class=\"dataframe\">\n",
       "  <thead>\n",
       "    <tr style=\"text-align: right;\">\n",
       "      <th></th>\n",
       "      <th>cement</th>\n",
       "      <th>slag</th>\n",
       "      <th>fly_ash</th>\n",
       "      <th>water</th>\n",
       "      <th>superplasticizer</th>\n",
       "      <th>coarse_aggregate</th>\n",
       "      <th>fine_aggregate</th>\n",
       "      <th>age</th>\n",
       "    </tr>\n",
       "  </thead>\n",
       "  <tbody>\n",
       "    <tr>\n",
       "      <th>0</th>\n",
       "      <td>0.426352</td>\n",
       "      <td>0.859649</td>\n",
       "      <td>0.0</td>\n",
       "      <td>1.606532</td>\n",
       "      <td>-0.61</td>\n",
       "      <td>-0.363636</td>\n",
       "      <td>-1.899898</td>\n",
       "      <td>4.938776</td>\n",
       "    </tr>\n",
       "  </tbody>\n",
       "</table>\n",
       "</div>"
      ],
      "text/plain": [
       "     cement      slag  fly_ash     water  superplasticizer  coarse_aggregate  \\\n",
       "0  0.426352  0.859649      0.0  1.606532             -0.61         -0.363636   \n",
       "\n",
       "   fine_aggregate       age  \n",
       "0       -1.899898  4.938776  "
      ]
     },
     "execution_count": 22,
     "metadata": {},
     "output_type": "execute_result"
    }
   ],
   "source": [
    "sample = [332.5,142.5,0.0,228.0,0.0,932.0,594.0,270]\n",
    "column_names = ['cement', 'slag', 'fly_ash', 'water', 'superplasticizer', 'coarse_aggregate', 'fine_aggregate', 'age']\n",
    "new_sample= pd.DataFrame(data = [sample], columns = column_names)\n",
    "\n",
    "#Scaling input\n",
    "new_sample['cement'],new_sample['slag'],new_sample['fly_ash'],new_sample['water'],new_sample['superplasticizer'],new_sample['coarse_aggregate'],new_sample['fine_aggregate'],new_sample['age'] = scaler.transform(new_sample[['cement', 'slag', 'fly_ash', 'water', 'superplasticizer', 'coarse_aggregate', 'fine_aggregate', 'age']]).T\n",
    "new_sample"
   ]
  },
  {
   "cell_type": "code",
   "execution_count": 23,
   "id": "b7619850-7a34-40bc-b3c4-57fe0c7558a4",
   "metadata": {
    "tags": []
   },
   "outputs": [
    {
     "data": {
      "text/plain": [
       "39.79971"
      ]
     },
     "execution_count": 23,
     "metadata": {},
     "output_type": "execute_result"
    }
   ],
   "source": [
    "model.predict(new_sample)[0]"
   ]
  },
  {
   "cell_type": "markdown",
   "id": "2b5a134d-e33a-4b34-877b-41fda7b078f6",
   "metadata": {},
   "source": [
    "## 3.2 Inputing new sample by user"
   ]
  },
  {
   "cell_type": "markdown",
   "id": "435d120b-f797-46de-8911-43ab6c40c9fa",
   "metadata": {},
   "source": [
    "### Please enter your concrete sample properties by order and run the cell"
   ]
  },
  {
   "cell_type": "code",
   "execution_count": 24,
   "id": "05af1a93-1ef0-43d4-91c4-3017d458c844",
   "metadata": {},
   "outputs": [],
   "source": [
    "cement= 332.5\n",
    "slag= 142.5\n",
    "fly_ash= 0.0\n",
    "water= 228.0\n",
    "superplasticizer= 0.0\n",
    "coarse_aggregate= 932.0\n",
    "fine_aggregate= 594.0"
   ]
  },
  {
   "cell_type": "markdown",
   "id": "8d4694dc-050b-4782-b4e3-534f74e4a0f5",
   "metadata": {},
   "source": [
    "## 💪 3.4 Run the the cell and get The average strength of the concrete samples at 1, 7, 14, and 28 days of age\n"
   ]
  },
  {
   "cell_type": "code",
   "execution_count": 25,
   "id": "1857084c-e880-400e-b105-8a777f9ba3fa",
   "metadata": {
    "scrolled": true
   },
   "outputs": [
    {
     "name": "stdout",
     "output_type": "stream",
     "text": [
      "+++++++++++++++++++++++++++++++++++++++++++++++++++++++++++++++++++++++++++++++++++++++++++++++++++++++\n",
      "The average strength of your concrete sample at 1, 7, 14, and 28 days of age is 27.28439474105835 MPa\n",
      "+++++++++++++++++++++++++++++++++++++++++++++++++++++++++++++++++++++++++++++++++++++++++++++++++++++++\n"
     ]
    }
   ],
   "source": [
    "age=[1,7,14,28]\n",
    "prediction_list=[]\n",
    "for item in age:\n",
    "    sample = [cement, slag, fly_ash, water, superplasticizer, coarse_aggregate, fine_aggregate,item]\n",
    "    column_names = ['cement', 'slag', 'fly_ash', 'water', 'superplasticizer', 'coarse_aggregate', 'fine_aggregate', 'age']\n",
    "    new_sample= pd.DataFrame(data = [sample], columns = column_names)\n",
    "    new_sample['cement'],new_sample['slag'],new_sample['fly_ash'],new_sample['water'],new_sample['superplasticizer'],new_sample['coarse_aggregate'],new_sample['fine_aggregate'],new_sample['age'] = scaler.transform(new_sample[['cement', 'slag', 'fly_ash', 'water', 'superplasticizer', 'coarse_aggregate', 'fine_aggregate', 'age']]).T\n",
    "    prediction_list.append(model.predict(new_sample)[0])\n",
    "    \n",
    "mean_strength=(sum(prediction_list)/len(prediction_list))\n",
    "\n",
    "print (\"+++++++++++++++++++++++++++++++++++++++++++++++++++++++++++++++++++++++++++++++++++++++++++++++++++++++\")\n",
    "print (\"The average strength of your concrete sample at 1, 7, 14, and 28 days of age is\", mean_strength , \"MPa\")\n",
    "print (\"+++++++++++++++++++++++++++++++++++++++++++++++++++++++++++++++++++++++++++++++++++++++++++++++++++++++\")"
   ]
  },
  {
   "cell_type": "markdown",
   "id": "339db6ba",
   "metadata": {},
   "source": [
    "# 📈(II) Finding a formula that estimates the compressive strength of concrete"
   ]
  },
  {
   "cell_type": "code",
   "execution_count": 26,
   "id": "fac9c777",
   "metadata": {},
   "outputs": [
    {
     "data": {
      "text/html": [
       "<div>\n",
       "<style scoped>\n",
       "    .dataframe tbody tr th:only-of-type {\n",
       "        vertical-align: middle;\n",
       "    }\n",
       "\n",
       "    .dataframe tbody tr th {\n",
       "        vertical-align: top;\n",
       "    }\n",
       "\n",
       "    .dataframe thead th {\n",
       "        text-align: right;\n",
       "    }\n",
       "</style>\n",
       "<table border=\"1\" class=\"dataframe\">\n",
       "  <thead>\n",
       "    <tr style=\"text-align: right;\">\n",
       "      <th></th>\n",
       "      <th>cement</th>\n",
       "      <th>slag</th>\n",
       "      <th>fly_ash</th>\n",
       "      <th>water</th>\n",
       "      <th>superplasticizer</th>\n",
       "      <th>coarse_aggregate</th>\n",
       "      <th>fine_aggregate</th>\n",
       "      <th>age</th>\n",
       "      <th>strength</th>\n",
       "    </tr>\n",
       "  </thead>\n",
       "  <tbody>\n",
       "    <tr>\n",
       "      <th>0</th>\n",
       "      <td>540.0</td>\n",
       "      <td>0.0</td>\n",
       "      <td>0.0</td>\n",
       "      <td>162.0</td>\n",
       "      <td>2.5</td>\n",
       "      <td>1040.0</td>\n",
       "      <td>676.0</td>\n",
       "      <td>28</td>\n",
       "      <td>79.986111</td>\n",
       "    </tr>\n",
       "    <tr>\n",
       "      <th>1</th>\n",
       "      <td>540.0</td>\n",
       "      <td>0.0</td>\n",
       "      <td>0.0</td>\n",
       "      <td>162.0</td>\n",
       "      <td>2.5</td>\n",
       "      <td>1055.0</td>\n",
       "      <td>676.0</td>\n",
       "      <td>28</td>\n",
       "      <td>61.887366</td>\n",
       "    </tr>\n",
       "    <tr>\n",
       "      <th>2</th>\n",
       "      <td>332.5</td>\n",
       "      <td>142.5</td>\n",
       "      <td>0.0</td>\n",
       "      <td>228.0</td>\n",
       "      <td>0.0</td>\n",
       "      <td>932.0</td>\n",
       "      <td>594.0</td>\n",
       "      <td>270</td>\n",
       "      <td>40.269535</td>\n",
       "    </tr>\n",
       "    <tr>\n",
       "      <th>3</th>\n",
       "      <td>332.5</td>\n",
       "      <td>142.5</td>\n",
       "      <td>0.0</td>\n",
       "      <td>228.0</td>\n",
       "      <td>0.0</td>\n",
       "      <td>932.0</td>\n",
       "      <td>594.0</td>\n",
       "      <td>365</td>\n",
       "      <td>41.052780</td>\n",
       "    </tr>\n",
       "    <tr>\n",
       "      <th>4</th>\n",
       "      <td>198.6</td>\n",
       "      <td>132.4</td>\n",
       "      <td>0.0</td>\n",
       "      <td>192.0</td>\n",
       "      <td>0.0</td>\n",
       "      <td>978.4</td>\n",
       "      <td>825.5</td>\n",
       "      <td>360</td>\n",
       "      <td>44.296075</td>\n",
       "    </tr>\n",
       "    <tr>\n",
       "      <th>...</th>\n",
       "      <td>...</td>\n",
       "      <td>...</td>\n",
       "      <td>...</td>\n",
       "      <td>...</td>\n",
       "      <td>...</td>\n",
       "      <td>...</td>\n",
       "      <td>...</td>\n",
       "      <td>...</td>\n",
       "      <td>...</td>\n",
       "    </tr>\n",
       "    <tr>\n",
       "      <th>1025</th>\n",
       "      <td>276.4</td>\n",
       "      <td>116.0</td>\n",
       "      <td>90.3</td>\n",
       "      <td>179.6</td>\n",
       "      <td>8.9</td>\n",
       "      <td>870.1</td>\n",
       "      <td>768.3</td>\n",
       "      <td>28</td>\n",
       "      <td>44.284354</td>\n",
       "    </tr>\n",
       "    <tr>\n",
       "      <th>1026</th>\n",
       "      <td>322.2</td>\n",
       "      <td>0.0</td>\n",
       "      <td>115.6</td>\n",
       "      <td>196.0</td>\n",
       "      <td>10.4</td>\n",
       "      <td>817.9</td>\n",
       "      <td>813.4</td>\n",
       "      <td>28</td>\n",
       "      <td>31.178794</td>\n",
       "    </tr>\n",
       "    <tr>\n",
       "      <th>1027</th>\n",
       "      <td>148.5</td>\n",
       "      <td>139.4</td>\n",
       "      <td>108.6</td>\n",
       "      <td>192.7</td>\n",
       "      <td>6.1</td>\n",
       "      <td>892.4</td>\n",
       "      <td>780.0</td>\n",
       "      <td>28</td>\n",
       "      <td>23.696601</td>\n",
       "    </tr>\n",
       "    <tr>\n",
       "      <th>1028</th>\n",
       "      <td>159.1</td>\n",
       "      <td>186.7</td>\n",
       "      <td>0.0</td>\n",
       "      <td>175.6</td>\n",
       "      <td>11.3</td>\n",
       "      <td>989.6</td>\n",
       "      <td>788.9</td>\n",
       "      <td>28</td>\n",
       "      <td>32.768036</td>\n",
       "    </tr>\n",
       "    <tr>\n",
       "      <th>1029</th>\n",
       "      <td>260.9</td>\n",
       "      <td>100.5</td>\n",
       "      <td>78.3</td>\n",
       "      <td>200.6</td>\n",
       "      <td>8.6</td>\n",
       "      <td>864.5</td>\n",
       "      <td>761.5</td>\n",
       "      <td>28</td>\n",
       "      <td>32.401235</td>\n",
       "    </tr>\n",
       "  </tbody>\n",
       "</table>\n",
       "<p>1005 rows × 9 columns</p>\n",
       "</div>"
      ],
      "text/plain": [
       "      cement   slag  fly_ash  water  superplasticizer  coarse_aggregate  \\\n",
       "0      540.0    0.0      0.0  162.0               2.5            1040.0   \n",
       "1      540.0    0.0      0.0  162.0               2.5            1055.0   \n",
       "2      332.5  142.5      0.0  228.0               0.0             932.0   \n",
       "3      332.5  142.5      0.0  228.0               0.0             932.0   \n",
       "4      198.6  132.4      0.0  192.0               0.0             978.4   \n",
       "...      ...    ...      ...    ...               ...               ...   \n",
       "1025   276.4  116.0     90.3  179.6               8.9             870.1   \n",
       "1026   322.2    0.0    115.6  196.0              10.4             817.9   \n",
       "1027   148.5  139.4    108.6  192.7               6.1             892.4   \n",
       "1028   159.1  186.7      0.0  175.6              11.3             989.6   \n",
       "1029   260.9  100.5     78.3  200.6               8.6             864.5   \n",
       "\n",
       "      fine_aggregate  age   strength  \n",
       "0              676.0   28  79.986111  \n",
       "1              676.0   28  61.887366  \n",
       "2              594.0  270  40.269535  \n",
       "3              594.0  365  41.052780  \n",
       "4              825.5  360  44.296075  \n",
       "...              ...  ...        ...  \n",
       "1025           768.3   28  44.284354  \n",
       "1026           813.4   28  31.178794  \n",
       "1027           780.0   28  23.696601  \n",
       "1028           788.9   28  32.768036  \n",
       "1029           761.5   28  32.401235  \n",
       "\n",
       "[1005 rows x 9 columns]"
      ]
     },
     "execution_count": 26,
     "metadata": {},
     "output_type": "execute_result"
    }
   ],
   "source": [
    "df"
   ]
  },
  {
   "cell_type": "code",
   "execution_count": 29,
   "id": "69648dd4",
   "metadata": {},
   "outputs": [
    {
     "data": {
      "text/plain": [
       "LinearRegression(copy_X=True, fit_intercept=True, n_jobs=None, normalize=False)"
      ]
     },
     "execution_count": 29,
     "metadata": {},
     "output_type": "execute_result"
    }
   ],
   "source": [
    "from sklearn.linear_model import LinearRegression\n",
    "X2 = df.drop(columns=['strength'])\n",
    "y2 = df['strength']\n",
    "# creating an object of LinearRegression class\n",
    "LR = LinearRegression()\n",
    "# fitting the training data\n",
    "LR.fit(X2,y2)\n"
   ]
  },
  {
   "cell_type": "code",
   "execution_count": 31,
   "id": "9e44a112",
   "metadata": {},
   "outputs": [],
   "source": [
    "# Make predictions using the testing set\n",
    "y2_pred = LR.predict(X2)\n"
   ]
  },
  {
   "cell_type": "code",
   "execution_count": 33,
   "id": "eb583a83",
   "metadata": {},
   "outputs": [
    {
     "name": "stdout",
     "output_type": "stream",
     "text": [
      "                            OLS Regression Results                            \n",
      "==============================================================================\n",
      "Dep. Variable:               strength   R-squared:                       0.604\n",
      "Model:                            OLS   Adj. R-squared:                  0.601\n",
      "Method:                 Least Squares   F-statistic:                     189.8\n",
      "Date:                Mon, 02 May 2022   Prob (F-statistic):          2.58e-194\n",
      "Time:                        17:11:14   Log-Likelihood:                -3764.5\n",
      "No. Observations:                1005   AIC:                             7547.\n",
      "Df Residuals:                     996   BIC:                             7591.\n",
      "Df Model:                           8                                         \n",
      "Covariance Type:            nonrobust                                         \n",
      "====================================================================================\n",
      "                       coef    std err          t      P>|t|      [0.025      0.975]\n",
      "------------------------------------------------------------------------------------\n",
      "Intercept          -17.7481     26.419     -0.672      0.502     -69.592      34.096\n",
      "cement               0.1172      0.008     13.799      0.000       0.101       0.134\n",
      "slag                 0.0994      0.010      9.790      0.000       0.080       0.119\n",
      "fly_ash              0.0856      0.012      6.862      0.000       0.061       0.110\n",
      "water               -0.1526      0.040     -3.835      0.000      -0.231      -0.075\n",
      "superplasticizer     0.2834      0.093      3.049      0.002       0.101       0.466\n",
      "coarse_aggregate     0.0156      0.009      1.676      0.094      -0.003       0.034\n",
      "fine_aggregate       0.0183      0.011      1.713      0.087      -0.003       0.039\n",
      "age                  0.1122      0.005     20.800      0.000       0.102       0.123\n",
      "==============================================================================\n",
      "Omnibus:                        4.034   Durbin-Watson:                   1.329\n",
      "Prob(Omnibus):                  0.133   Jarque-Bera (JB):                3.923\n",
      "Skew:                          -0.150   Prob(JB):                        0.141\n",
      "Kurtosis:                       3.062   Cond. No.                     1.05e+05\n",
      "==============================================================================\n",
      "\n",
      "Warnings:\n",
      "[1] Standard Errors assume that the covariance matrix of the errors is correctly specified.\n",
      "[2] The condition number is large, 1.05e+05. This might indicate that there are\n",
      "strong multicollinearity or other numerical problems.\n"
     ]
    }
   ],
   "source": [
    "import statsmodels.formula.api as smf\n",
    "model_s = smf.ols('strength ~cement+slag+fly_ash+water+superplasticizer+coarse_aggregate+fine_aggregate+age',  data=df).fit()\n",
    "print(model_s.summary())"
   ]
  },
  {
   "cell_type": "code",
   "execution_count": 34,
   "id": "6ef20c23",
   "metadata": {},
   "outputs": [
    {
     "data": {
      "text/plain": [
       "0      -26.701035\n",
       "1       -8.367977\n",
       "2       16.042083\n",
       "3       25.916044\n",
       "4       15.865382\n",
       "          ...    \n",
       "1025    -4.468915\n",
       "1026     2.567638\n",
       "1027     2.789804\n",
       "1028    -3.870229\n",
       "1029    -0.473789\n",
       "Length: 1005, dtype: float64"
      ]
     },
     "execution_count": 34,
     "metadata": {},
     "output_type": "execute_result"
    }
   ],
   "source": [
    "predicted_streangth = model_s.predict(X2)\n",
    "residuals = predicted_streangth - y2\n",
    "residuals"
   ]
  },
  {
   "cell_type": "code",
   "execution_count": 35,
   "id": "ce5f768b",
   "metadata": {},
   "outputs": [
    {
     "data": {
      "text/plain": [
       "10.24496410882988"
      ]
     },
     "execution_count": 35,
     "metadata": {},
     "output_type": "execute_result"
    }
   ],
   "source": [
    "RMSE = (residuals.map(lambda x: x**2).sum() / len(residuals))**0.5\n",
    "RMSE"
   ]
  },
  {
   "cell_type": "code",
   "execution_count": 36,
   "id": "c56eb918",
   "metadata": {},
   "outputs": [
    {
     "data": {
      "text/plain": [
       "Text(0.5, 1.0, 'residuals density plot')"
      ]
     },
     "execution_count": 36,
     "metadata": {},
     "output_type": "execute_result"
    },
    {
     "data": {
      "image/png": "[encoded data removed]",
      "text/plain": [
       "<Figure size 432x288 with 1 Axes>"
      ]
     },
     "metadata": {
      "needs_background": "light"
     },
     "output_type": "display_data"
    }
   ],
   "source": [
    "sns.histplot(residuals, kde=True, stat='density', discrete=True)\n",
    "plt.title('residuals density plot')"
   ]
  },
  {
   "cell_type": "code",
   "execution_count": 37,
   "id": "15e775fb",
   "metadata": {},
   "outputs": [
    {
     "data": {
      "text/plain": [
       "<AxesSubplot:xlabel='strength', ylabel='Density'>"
      ]
     },
     "execution_count": 37,
     "metadata": {},
     "output_type": "execute_result"
    },
    {
     "data": {
      "image/png": "[encoded data removed]",
      "text/plain": [
       "<Figure size 432x288 with 1 Axes>"
      ]
     },
     "metadata": {
      "needs_background": "light"
     },
     "output_type": "display_data"
    }
   ],
   "source": [
    "sns.histplot(y2, kde=True, stat='density', discrete=True)\n",
    "sns.histplot(predicted_streangth, kde=True, stat='density', discrete=True)\n"
   ]
  },
  {
   "cell_type": "code",
   "execution_count": 38,
   "id": "840fb220",
   "metadata": {
    "scrolled": true
   },
   "outputs": [
    {
     "data": {
      "text/plain": [
       "2    56.311618\n",
       "dtype: float64"
      ]
     },
     "execution_count": 38,
     "metadata": {},
     "output_type": "execute_result"
    }
   ],
   "source": [
    "model_s.predict(X2.iloc[2])"
   ]
  },
  {
   "cell_type": "markdown",
   "id": "c10f1741",
   "metadata": {},
   "source": [
    "### Strength Formula:\n",
    "\n",
    "### Strength = (-17.7481) + 0.1172 ∗ cement + 0.0994 ∗ slag + 0.0856 ∗ fly ash - 0.1526 ∗ water + 0.2834 ∗ superplasticizer + 0.0156 ∗ coarse aggregate + 0.0183 ∗ fine aggregate +  0.1122 ∗ age"
   ]
  },
  {
   "cell_type": "code",
   "execution_count": 39,
   "id": "cb93cb1e",
   "metadata": {},
   "outputs": [
    {
     "data": {
      "text/plain": [
       "-12.138100000000001"
      ]
     },
     "execution_count": 39,
     "metadata": {},
     "output_type": "execute_result"
    }
   ],
   "source": [
    "((1+7+14+28)*0.1122)-17.7481"
   ]
  },
  {
   "cell_type": "markdown",
   "id": "f2769698",
   "metadata": {},
   "source": [
    "## The average strength of the concrete samples at 1, 7, 14, and 28 days of age:\n",
    "\n",
    "Strength = (-12.13811) + 0.1172 ∗ cement + 0.0994 ∗ slag + 0.0856 ∗ fly ash - 0.1526 ∗ water + 0.2834 ∗ superplasticizer + 0.0156 ∗ coarse aggregate + 0.0183 ∗ fine aggregate + 0.1122"
   ]
  },
  {
   "cell_type": "markdown",
   "id": "735bfe7c",
   "metadata": {},
   "source": [
    "## ✅ Finish"
   ]
  }
 ],
 "metadata": {
  "kernelspec": {
   "display_name": "Python 3 (ipykernel)",
   "language": "python",
   "name": "python3"
  },
  "language_info": {
   "codemirror_mode": {
    "name": "ipython",
    "version": 3
   },
   "file_extension": ".py",
   "mimetype": "text/x-python",
   "name": "python",
   "nbconvert_exporter": "python",
   "pygments_lexer": "ipython3",
   "version": "3.8.12"
  },
  "toc": {
   "base_numbering": 1,
   "nav_menu": {},
   "number_sections": false,
   "sideBar": true,
   "skip_h1_title": false,
   "title_cell": "Table of Contents",
   "title_sidebar": "Contents",
   "toc_cell": false,
   "toc_position": {},
   "toc_section_display": true,
   "toc_window_display": true
  }
 },
 "nbformat": 4,
 "nbformat_minor": 5
}
